{
 "cells": [
  {
   "cell_type": "markdown",
   "id": "c93b2392",
   "metadata": {
    "papermill": {
     "duration": 0.006985,
     "end_time": "2023-07-22T14:25:01.870509",
     "exception": false,
     "start_time": "2023-07-22T14:25:01.863524",
     "status": "completed"
    },
    "tags": []
   },
   "source": [
    "**This notebook is an exercise in the [Python](https://www.kaggle.com/learn/python) course.  You can reference the tutorial at [this link](https://www.kaggle.com/colinmorris/functions-and-getting-help).**\n",
    "\n",
    "---\n"
   ]
  },
  {
   "cell_type": "markdown",
   "id": "bfc90bf7",
   "metadata": {
    "papermill": {
     "duration": 0.005744,
     "end_time": "2023-07-22T14:25:01.882583",
     "exception": false,
     "start_time": "2023-07-22T14:25:01.876839",
     "status": "completed"
    },
    "tags": []
   },
   "source": [
    "Functions are powerful. Try writing some yourself.\n",
    "\n",
    "As before, don't forget to run the setup code below before jumping into question 1."
   ]
  },
  {
   "cell_type": "code",
   "execution_count": 1,
   "id": "33e6f479",
   "metadata": {
    "_kg_hide-input": true,
    "_kg_hide-output": true,
    "execution": {
     "iopub.execute_input": "2023-07-22T14:25:01.896568Z",
     "iopub.status.busy": "2023-07-22T14:25:01.896091Z",
     "iopub.status.idle": "2023-07-22T14:25:01.949425Z",
     "shell.execute_reply": "2023-07-22T14:25:01.947974Z"
    },
    "papermill": {
     "duration": 0.063847,
     "end_time": "2023-07-22T14:25:01.952539",
     "exception": false,
     "start_time": "2023-07-22T14:25:01.888692",
     "status": "completed"
    },
    "tags": []
   },
   "outputs": [
    {
     "name": "stdout",
     "output_type": "stream",
     "text": [
      "Setup complete.\n"
     ]
    }
   ],
   "source": [
    "# SETUP. You don't need to worry for now about what this code does or how it works.\n",
    "from learntools.core import binder; binder.bind(globals())\n",
    "from learntools.python.ex2 import *\n",
    "print('Setup complete.')"
   ]
  },
  {
   "cell_type": "markdown",
   "id": "a14ffee2",
   "metadata": {
    "papermill": {
     "duration": 0.006135,
     "end_time": "2023-07-22T14:25:01.965493",
     "exception": false,
     "start_time": "2023-07-22T14:25:01.959358",
     "status": "completed"
    },
    "tags": []
   },
   "source": [
    "# 1.\n",
    "\n",
    "Complete the body of the following function according to its docstring.\n",
    "\n",
    "HINT: Python has a built-in function `round`."
   ]
  },
  {
   "cell_type": "code",
   "execution_count": 2,
   "id": "e2705917",
   "metadata": {
    "execution": {
     "iopub.execute_input": "2023-07-22T14:25:01.981407Z",
     "iopub.status.busy": "2023-07-22T14:25:01.980684Z",
     "iopub.status.idle": "2023-07-22T14:25:01.991994Z",
     "shell.execute_reply": "2023-07-22T14:25:01.990704Z"
    },
    "papermill": {
     "duration": 0.022913,
     "end_time": "2023-07-22T14:25:01.994693",
     "exception": false,
     "start_time": "2023-07-22T14:25:01.971780",
     "status": "completed"
    },
    "tags": []
   },
   "outputs": [
    {
     "data": {
      "application/javascript": [
       "parent.postMessage({\"jupyterEvent\": \"custom.exercise_interaction\", \"data\": {\"outcomeType\": 1, \"valueTowardsCompletion\": 0.16666666666666666, \"interactionType\": 1, \"questionType\": 2, \"questionId\": \"1_RoundFunctionProblem\", \"learnToolsVersion\": \"0.3.4\", \"failureMessage\": \"\", \"exceptionClass\": \"\", \"trace\": \"\"}}, \"*\")"
      ],
      "text/plain": [
       "<IPython.core.display.Javascript object>"
      ]
     },
     "metadata": {},
     "output_type": "display_data"
    },
    {
     "data": {
      "text/markdown": [
       "<span style=\"color:#33cc33\">Correct</span>"
      ],
      "text/plain": [
       "Correct"
      ]
     },
     "metadata": {},
     "output_type": "display_data"
    }
   ],
   "source": [
    "def round_to_two_places(num):\n",
    "    \"\"\"Return the given number rounded to two decimal places. \n",
    "    \n",
    "    >>> round_to_two_places(3.14159)\n",
    "    3.14\n",
    "    \"\"\"\n",
    "    # Replace this body with your own code.\n",
    "    # (\"pass\" is a keyword that does literally nothing. We used it as a placeholder\n",
    "    # because after we begin a code block, Python requires at least one line of code)\n",
    "    return round(num,2)\n",
    "\n",
    "# Check your answer\n",
    "q1.check()"
   ]
  },
  {
   "cell_type": "code",
   "execution_count": 3,
   "id": "69aaf55e",
   "metadata": {
    "execution": {
     "iopub.execute_input": "2023-07-22T14:25:02.010854Z",
     "iopub.status.busy": "2023-07-22T14:25:02.010380Z",
     "iopub.status.idle": "2023-07-22T14:25:02.020166Z",
     "shell.execute_reply": "2023-07-22T14:25:02.019172Z"
    },
    "papermill": {
     "duration": 0.021378,
     "end_time": "2023-07-22T14:25:02.022696",
     "exception": false,
     "start_time": "2023-07-22T14:25:02.001318",
     "status": "completed"
    },
    "tags": []
   },
   "outputs": [
    {
     "data": {
      "application/javascript": [
       "parent.postMessage({\"jupyterEvent\": \"custom.exercise_interaction\", \"data\": {\"interactionType\": 2, \"questionType\": 2, \"questionId\": \"1_RoundFunctionProblem\", \"learnToolsVersion\": \"0.3.4\", \"valueTowardsCompletion\": 0.0, \"failureMessage\": \"\", \"exceptionClass\": \"\", \"trace\": \"\", \"outcomeType\": 4}}, \"*\")"
      ],
      "text/plain": [
       "<IPython.core.display.Javascript object>"
      ]
     },
     "metadata": {},
     "output_type": "display_data"
    },
    {
     "data": {
      "text/markdown": [
       "<span style=\"color:#3366cc\">Hint:</span> Run `help(round)` in the console (or in a code cell) to learn more about the round function. You'll need to use the function's optional second argument."
      ],
      "text/plain": [
       "Hint: Run `help(round)` in the console (or in a code cell) to learn more about the round function. You'll need to use the function's optional second argument."
      ]
     },
     "metadata": {},
     "output_type": "display_data"
    }
   ],
   "source": [
    "# Uncomment the following for a hint\n",
    "q1.hint()\n",
    "# Or uncomment the following to peek at the solution\n",
    "#q1.solution()"
   ]
  },
  {
   "cell_type": "markdown",
   "id": "103545d2",
   "metadata": {
    "papermill": {
     "duration": 0.006616,
     "end_time": "2023-07-22T14:25:02.036198",
     "exception": false,
     "start_time": "2023-07-22T14:25:02.029582",
     "status": "completed"
    },
    "tags": []
   },
   "source": [
    "# 2.\n",
    "The help for `round` says that `ndigits` (the second argument) may be negative.\n",
    "What do you think will happen when it is? Try some examples in the following cell."
   ]
  },
  {
   "cell_type": "code",
   "execution_count": 4,
   "id": "c8e37f88",
   "metadata": {
    "execution": {
     "iopub.execute_input": "2023-07-22T14:25:02.052302Z",
     "iopub.status.busy": "2023-07-22T14:25:02.051899Z",
     "iopub.status.idle": "2023-07-22T14:25:02.058118Z",
     "shell.execute_reply": "2023-07-22T14:25:02.056689Z"
    },
    "papermill": {
     "duration": 0.01741,
     "end_time": "2023-07-22T14:25:02.060957",
     "exception": false,
     "start_time": "2023-07-22T14:25:02.043547",
     "status": "completed"
    },
    "tags": []
   },
   "outputs": [
    {
     "name": "stdout",
     "output_type": "stream",
     "text": [
      "0.0\n"
     ]
    }
   ],
   "source": [
    "# Put your test code here\n",
    "print(round(8.9009,-2))"
   ]
  },
  {
   "cell_type": "markdown",
   "id": "1b88d69d",
   "metadata": {
    "papermill": {
     "duration": 0.007045,
     "end_time": "2023-07-22T14:25:02.074951",
     "exception": false,
     "start_time": "2023-07-22T14:25:02.067906",
     "status": "completed"
    },
    "tags": []
   },
   "source": [
    "Can you think of a case where this would be useful?  Once you're ready, run the code cell below to see the answer and to receive credit for completing the problem."
   ]
  },
  {
   "cell_type": "code",
   "execution_count": 5,
   "id": "8bf9ab71",
   "metadata": {
    "execution": {
     "iopub.execute_input": "2023-07-22T14:25:02.092219Z",
     "iopub.status.busy": "2023-07-22T14:25:02.091819Z",
     "iopub.status.idle": "2023-07-22T14:25:02.100931Z",
     "shell.execute_reply": "2023-07-22T14:25:02.100021Z"
    },
    "papermill": {
     "duration": 0.019756,
     "end_time": "2023-07-22T14:25:02.103249",
     "exception": false,
     "start_time": "2023-07-22T14:25:02.083493",
     "status": "completed"
    },
    "tags": []
   },
   "outputs": [
    {
     "data": {
      "application/javascript": [
       "parent.postMessage({\"jupyterEvent\": \"custom.exercise_interaction\", \"data\": {\"interactionType\": 3, \"questionType\": 4, \"questionId\": \"2_RoundNdigitsProblem\", \"learnToolsVersion\": \"0.3.4\", \"valueTowardsCompletion\": 0.0, \"failureMessage\": \"\", \"exceptionClass\": \"\", \"trace\": \"\", \"outcomeType\": 4}}, \"*\")"
      ],
      "text/plain": [
       "<IPython.core.display.Javascript object>"
      ]
     },
     "metadata": {},
     "output_type": "display_data"
    },
    {
     "data": {
      "text/markdown": [
       "<span style=\"color:#33cc99\">Solution:</span> As you've seen, `ndigits=-1` rounds to the nearest 10, `ndigits=-2` rounds to the nearest 100 and so on. Where might this be useful? Suppose we're dealing with large numbers:\n",
       "\n",
       "> The area of Finland is 338,424 km²  \n",
       "> The area of Greenland is 2,166,086 km²\n",
       "\n",
       "We probably don't care whether it's really 338,424, or 338,425, or 338,177. All those digits of accuracy are just distracting. We can chop them off by calling `round()` with `ndigits=-3`:\n",
       "\n",
       "> The area of Finland is 338,000 km²  \n",
       "> The area of Greenland is 2,166,000 km²\n",
       "\n",
       "(We'll talk about how we would get the commas later when we talk about string formatting :))\n"
      ],
      "text/plain": [
       "Solution: As you've seen, `ndigits=-1` rounds to the nearest 10, `ndigits=-2` rounds to the nearest 100 and so on. Where might this be useful? Suppose we're dealing with large numbers:\n",
       "\n",
       "> The area of Finland is 338,424 km²  \n",
       "> The area of Greenland is 2,166,086 km²\n",
       "\n",
       "We probably don't care whether it's really 338,424, or 338,425, or 338,177. All those digits of accuracy are just distracting. We can chop them off by calling `round()` with `ndigits=-3`:\n",
       "\n",
       "> The area of Finland is 338,000 km²  \n",
       "> The area of Greenland is 2,166,000 km²\n",
       "\n",
       "(We'll talk about how we would get the commas later when we talk about string formatting :))"
      ]
     },
     "metadata": {},
     "output_type": "display_data"
    }
   ],
   "source": [
    "# Check your answer (Run this code cell to receive credit!)\n",
    "q2.solution()"
   ]
  },
  {
   "cell_type": "markdown",
   "id": "cb2ed362",
   "metadata": {
    "papermill": {
     "duration": 0.00755,
     "end_time": "2023-07-22T14:25:02.118227",
     "exception": false,
     "start_time": "2023-07-22T14:25:02.110677",
     "status": "completed"
    },
    "tags": []
   },
   "source": [
    "# 3.\n",
    "\n",
    "In the previous exercise, the candy-sharing friends Alice, Bob and Carol tried to split candies evenly. For the sake of their friendship, any candies left over would be smashed. For example, if they collectively bring home 91 candies, they'll take 30 each and smash 1.\n",
    "\n",
    "Below is a simple function that will calculate the number of candies to smash for *any* number of total candies.\n",
    "\n",
    "Modify it so that it optionally takes a second argument representing the number of friends the candies are being split between. If no second argument is provided, it should assume 3 friends, as before.\n",
    "\n",
    "Update the docstring to reflect this new behaviour."
   ]
  },
  {
   "cell_type": "code",
   "execution_count": 6,
   "id": "a106f8cf",
   "metadata": {
    "execution": {
     "iopub.execute_input": "2023-07-22T14:25:02.135062Z",
     "iopub.status.busy": "2023-07-22T14:25:02.134638Z",
     "iopub.status.idle": "2023-07-22T14:25:02.144689Z",
     "shell.execute_reply": "2023-07-22T14:25:02.143544Z"
    },
    "papermill": {
     "duration": 0.021705,
     "end_time": "2023-07-22T14:25:02.147344",
     "exception": false,
     "start_time": "2023-07-22T14:25:02.125639",
     "status": "completed"
    },
    "tags": []
   },
   "outputs": [
    {
     "data": {
      "application/javascript": [
       "parent.postMessage({\"jupyterEvent\": \"custom.exercise_interaction\", \"data\": {\"outcomeType\": 1, \"valueTowardsCompletion\": 0.16666666666666666, \"interactionType\": 1, \"questionType\": 2, \"questionId\": \"3_CandySmashingFunctionProblem\", \"learnToolsVersion\": \"0.3.4\", \"failureMessage\": \"\", \"exceptionClass\": \"\", \"trace\": \"\"}}, \"*\")"
      ],
      "text/plain": [
       "<IPython.core.display.Javascript object>"
      ]
     },
     "metadata": {},
     "output_type": "display_data"
    },
    {
     "data": {
      "text/markdown": [
       "<span style=\"color:#33cc33\">Correct</span>"
      ],
      "text/plain": [
       "Correct"
      ]
     },
     "metadata": {},
     "output_type": "display_data"
    }
   ],
   "source": [
    "def to_smash(total_candies,friends=3):\n",
    "    \"\"\"Return the number of leftover candies that must be smashed after distributing\n",
    "    the given number of candies evenly between 3 friends.\n",
    "    \n",
    "    >>> to_smash(91)\n",
    "    1\n",
    "    \"\"\"\n",
    "    return total_candies % friends\n",
    "\n",
    "# Check your answer\n",
    "q3.check()"
   ]
  },
  {
   "cell_type": "code",
   "execution_count": 7,
   "id": "939169ae",
   "metadata": {
    "execution": {
     "iopub.execute_input": "2023-07-22T14:25:02.165504Z",
     "iopub.status.busy": "2023-07-22T14:25:02.165067Z",
     "iopub.status.idle": "2023-07-22T14:25:02.174545Z",
     "shell.execute_reply": "2023-07-22T14:25:02.173326Z"
    },
    "papermill": {
     "duration": 0.021492,
     "end_time": "2023-07-22T14:25:02.177082",
     "exception": false,
     "start_time": "2023-07-22T14:25:02.155590",
     "status": "completed"
    },
    "tags": []
   },
   "outputs": [
    {
     "data": {
      "application/javascript": [
       "parent.postMessage({\"jupyterEvent\": \"custom.exercise_interaction\", \"data\": {\"interactionType\": 2, \"questionType\": 2, \"questionId\": \"3_CandySmashingFunctionProblem\", \"learnToolsVersion\": \"0.3.4\", \"valueTowardsCompletion\": 0.0, \"failureMessage\": \"\", \"exceptionClass\": \"\", \"trace\": \"\", \"outcomeType\": 4}}, \"*\")"
      ],
      "text/plain": [
       "<IPython.core.display.Javascript object>"
      ]
     },
     "metadata": {},
     "output_type": "display_data"
    },
    {
     "data": {
      "text/markdown": [
       "<span style=\"color:#3366cc\">Hint:</span> Refer to the section of the last tutorial notebook where we talked about default arguments"
      ],
      "text/plain": [
       "Hint: Refer to the section of the last tutorial notebook where we talked about default arguments"
      ]
     },
     "metadata": {},
     "output_type": "display_data"
    }
   ],
   "source": [
    "q3.hint()"
   ]
  },
  {
   "cell_type": "code",
   "execution_count": 8,
   "id": "b44f5f87",
   "metadata": {
    "execution": {
     "iopub.execute_input": "2023-07-22T14:25:02.195205Z",
     "iopub.status.busy": "2023-07-22T14:25:02.194782Z",
     "iopub.status.idle": "2023-07-22T14:25:02.200095Z",
     "shell.execute_reply": "2023-07-22T14:25:02.199004Z"
    },
    "papermill": {
     "duration": 0.017078,
     "end_time": "2023-07-22T14:25:02.202450",
     "exception": false,
     "start_time": "2023-07-22T14:25:02.185372",
     "status": "completed"
    },
    "tags": []
   },
   "outputs": [],
   "source": [
    "#q3.solution()"
   ]
  },
  {
   "cell_type": "markdown",
   "id": "4620c71f",
   "metadata": {
    "papermill": {
     "duration": 0.007844,
     "end_time": "2023-07-22T14:25:02.218411",
     "exception": false,
     "start_time": "2023-07-22T14:25:02.210567",
     "status": "completed"
    },
    "tags": []
   },
   "source": [
    "# 4. (Optional)\n",
    "\n",
    "It may not be fun, but reading and understanding error messages will be an important part of your Python career.\n",
    "\n",
    "Each code cell below contains some commented buggy code. For each cell...\n",
    "\n",
    "1. Read the code and predict what you think will happen when it's run.\n",
    "2. Then uncomment the code and run it to see what happens. (**Tip**: In the kernel editor, you can highlight several lines and press `ctrl`+`/` to toggle commenting.)\n",
    "3. Fix the code (so that it accomplishes its intended purpose without throwing an exception)\n",
    "\n",
    "<!-- TODO: should this be autochecked? Delta is probably pretty small. -->"
   ]
  },
  {
   "cell_type": "code",
   "execution_count": 9,
   "id": "5947eb10",
   "metadata": {
    "execution": {
     "iopub.execute_input": "2023-07-22T14:25:02.236198Z",
     "iopub.status.busy": "2023-07-22T14:25:02.235769Z",
     "iopub.status.idle": "2023-07-22T14:25:02.240637Z",
     "shell.execute_reply": "2023-07-22T14:25:02.239526Z"
    },
    "papermill": {
     "duration": 0.016488,
     "end_time": "2023-07-22T14:25:02.242901",
     "exception": false,
     "start_time": "2023-07-22T14:25:02.226413",
     "status": "completed"
    },
    "tags": []
   },
   "outputs": [],
   "source": [
    "# ruound_to_two_places(9.9999)"
   ]
  },
  {
   "cell_type": "code",
   "execution_count": 10,
   "id": "ecb3f23d",
   "metadata": {
    "execution": {
     "iopub.execute_input": "2023-07-22T14:25:02.261078Z",
     "iopub.status.busy": "2023-07-22T14:25:02.260644Z",
     "iopub.status.idle": "2023-07-22T14:25:02.265789Z",
     "shell.execute_reply": "2023-07-22T14:25:02.264622Z"
    },
    "papermill": {
     "duration": 0.017113,
     "end_time": "2023-07-22T14:25:02.268239",
     "exception": false,
     "start_time": "2023-07-22T14:25:02.251126",
     "status": "completed"
    },
    "tags": []
   },
   "outputs": [],
   "source": [
    "# x = -10\n",
    "# y = 5\n",
    "# # Which of the two variables above has the smallest absolute value?\n",
    "# smallest_abs = min(abs(x, y))"
   ]
  },
  {
   "cell_type": "code",
   "execution_count": 11,
   "id": "9bb26d8f",
   "metadata": {
    "execution": {
     "iopub.execute_input": "2023-07-22T14:25:02.287605Z",
     "iopub.status.busy": "2023-07-22T14:25:02.286510Z",
     "iopub.status.idle": "2023-07-22T14:25:02.291599Z",
     "shell.execute_reply": "2023-07-22T14:25:02.290518Z"
    },
    "papermill": {
     "duration": 0.017483,
     "end_time": "2023-07-22T14:25:02.294124",
     "exception": false,
     "start_time": "2023-07-22T14:25:02.276641",
     "status": "completed"
    },
    "tags": []
   },
   "outputs": [],
   "source": [
    "# def f(x):\n",
    "#     y = abs(x)\n",
    "# return y\n",
    "\n",
    "# print(f(5))"
   ]
  },
  {
   "cell_type": "markdown",
   "id": "64cf821a",
   "metadata": {
    "papermill": {
     "duration": 0.007849,
     "end_time": "2023-07-22T14:25:02.310335",
     "exception": false,
     "start_time": "2023-07-22T14:25:02.302486",
     "status": "completed"
    },
    "tags": []
   },
   "source": [
    "# Keep Going\n",
    "\n",
    "Nice job with the code. Next up, you'll learn about *conditionals*, which you'll need to **[write interesting programs](https://www.kaggle.com/colinmorris/booleans-and-conditionals)**. "
   ]
  },
  {
   "cell_type": "markdown",
   "id": "099a1a81",
   "metadata": {
    "papermill": {
     "duration": 0.008065,
     "end_time": "2023-07-22T14:25:02.326639",
     "exception": false,
     "start_time": "2023-07-22T14:25:02.318574",
     "status": "completed"
    },
    "tags": []
   },
   "source": [
    "---\n",
    "\n",
    "\n",
    "\n",
    "\n",
    "*Have questions or comments? Visit the [course discussion forum](https://www.kaggle.com/learn/python/discussion) to chat with other learners.*"
   ]
  }
 ],
 "metadata": {
  "kernelspec": {
   "display_name": "Python 3",
   "language": "python",
   "name": "python3"
  },
  "language_info": {
   "codemirror_mode": {
    "name": "ipython",
    "version": 3
   },
   "file_extension": ".py",
   "mimetype": "text/x-python",
   "name": "python",
   "nbconvert_exporter": "python",
   "pygments_lexer": "ipython3",
   "version": "3.10.12"
  },
  "papermill": {
   "default_parameters": {},
   "duration": 13.975839,
   "end_time": "2023-07-22T14:25:03.257862",
   "environment_variables": {},
   "exception": null,
   "input_path": "__notebook__.ipynb",
   "output_path": "__notebook__.ipynb",
   "parameters": {},
   "start_time": "2023-07-22T14:24:49.282023",
   "version": "2.4.0"
  }
 },
 "nbformat": 4,
 "nbformat_minor": 5
}
