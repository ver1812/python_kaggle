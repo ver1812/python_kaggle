{
 "cells": [
  {
   "cell_type": "markdown",
   "id": "82365ef1",
   "metadata": {
    "papermill": {
     "duration": 0.009026,
     "end_time": "2023-07-22T13:42:27.181149",
     "exception": false,
     "start_time": "2023-07-22T13:42:27.172123",
     "status": "completed"
    },
    "tags": []
   },
   "source": [
    "**This notebook is an exercise in the [Python](https://www.kaggle.com/learn/python) course.  You can reference the tutorial at [this link](https://www.kaggle.com/colinmorris/hello-python).**\n",
    "\n",
    "---\n"
   ]
  },
  {
   "cell_type": "markdown",
   "id": "46be9067",
   "metadata": {
    "papermill": {
     "duration": 0.008357,
     "end_time": "2023-07-22T13:42:27.198319",
     "exception": false,
     "start_time": "2023-07-22T13:42:27.189962",
     "status": "completed"
    },
    "tags": []
   },
   "source": [
    "Welcome to your first set of Python coding problems.  If this is your first time using Kaggle Notebooks, welcome! \n",
    "\n",
    "Notebooks are composed of blocks (called \"cells\") of text and code. Each of these is editable, though you'll mainly be editing the code cells to answer some questions.\n",
    "\n",
    "To get started, try running the code cell below (by pressing the ► button, or clicking on the cell and pressing ctrl+enter on your keyboard)."
   ]
  },
  {
   "cell_type": "code",
   "execution_count": 1,
   "id": "23ef767e",
   "metadata": {
    "execution": {
     "iopub.execute_input": "2023-07-22T13:42:27.217316Z",
     "iopub.status.busy": "2023-07-22T13:42:27.216922Z",
     "iopub.status.idle": "2023-07-22T13:42:27.229739Z",
     "shell.execute_reply": "2023-07-22T13:42:27.228865Z"
    },
    "papermill": {
     "duration": 0.025416,
     "end_time": "2023-07-22T13:42:27.232386",
     "exception": false,
     "start_time": "2023-07-22T13:42:27.206970",
     "status": "completed"
    },
    "tags": []
   },
   "outputs": [
    {
     "name": "stdout",
     "output_type": "stream",
     "text": [
      "You've successfully run some Python code\n",
      "Congratulations!\n",
      "Game on \n"
     ]
    }
   ],
   "source": [
    "print(\"You've successfully run some Python code\")\n",
    "print(\"Congratulations!\")\n",
    "print(\"Game on \")"
   ]
  },
  {
   "cell_type": "markdown",
   "id": "d5842645",
   "metadata": {
    "papermill": {
     "duration": 0.008661,
     "end_time": "2023-07-22T13:42:27.249944",
     "exception": false,
     "start_time": "2023-07-22T13:42:27.241283",
     "status": "completed"
    },
    "tags": []
   },
   "source": [
    "Try adding another line of code in the cell above and re-running it. \n",
    "\n",
    "Now let's get a little fancier:  Add a new code cell by clicking on an existing code cell, hitting the escape key, and then hitting the `a` or `b` key.  The `a` key will add a cell above the current cell, and `b` adds a cell below.\n",
    "\n",
    "Great! Now you know how to use Notebooks.\n",
    "\n",
    "Each hands-on exercise starts by setting up our feedback and code checking mechanism. Run the code cell below to do that. Then you'll be ready to move on to question 0."
   ]
  },
  {
   "cell_type": "code",
   "execution_count": 2,
   "id": "0363e29f",
   "metadata": {
    "_kg_hide-input": true,
    "_kg_hide-output": true,
    "execution": {
     "iopub.execute_input": "2023-07-22T13:42:27.269678Z",
     "iopub.status.busy": "2023-07-22T13:42:27.268913Z",
     "iopub.status.idle": "2023-07-22T13:42:27.308518Z",
     "shell.execute_reply": "2023-07-22T13:42:27.307237Z"
    },
    "papermill": {
     "duration": 0.052526,
     "end_time": "2023-07-22T13:42:27.311321",
     "exception": false,
     "start_time": "2023-07-22T13:42:27.258795",
     "status": "completed"
    },
    "tags": []
   },
   "outputs": [
    {
     "name": "stdout",
     "output_type": "stream",
     "text": [
      "Setup complete! You're ready to start question 0.\n"
     ]
    }
   ],
   "source": [
    "from learntools.core import binder; binder.bind(globals())\n",
    "from learntools.python.ex1 import *\n",
    "print(\"Setup complete! You're ready to start question 0.\")"
   ]
  },
  {
   "cell_type": "markdown",
   "id": "fb6ed1d3",
   "metadata": {
    "papermill": {
     "duration": 0.00881,
     "end_time": "2023-07-22T13:42:27.329024",
     "exception": false,
     "start_time": "2023-07-22T13:42:27.320214",
     "status": "completed"
    },
    "tags": []
   },
   "source": [
    "# 0.\n",
    "\n",
    "*This is a silly question intended as an introduction to the format we use for hands-on exercises throughout all Kaggle courses.*\n",
    "\n",
    "**What is your favorite color? **\n",
    "\n",
    "To complete this question, create a variable called `color` in the cell below with an appropriate value. The function call `q0.check()` (which we've already provided in the cell below) will check your answer."
   ]
  },
  {
   "cell_type": "code",
   "execution_count": 3,
   "id": "567def43",
   "metadata": {
    "execution": {
     "iopub.execute_input": "2023-07-22T13:42:27.348607Z",
     "iopub.status.busy": "2023-07-22T13:42:27.348191Z",
     "iopub.status.idle": "2023-07-22T13:42:27.358593Z",
     "shell.execute_reply": "2023-07-22T13:42:27.357528Z"
    },
    "papermill": {
     "duration": 0.023335,
     "end_time": "2023-07-22T13:42:27.361283",
     "exception": false,
     "start_time": "2023-07-22T13:42:27.337948",
     "status": "completed"
    },
    "tags": []
   },
   "outputs": [
    {
     "data": {
      "application/javascript": [
       "parent.postMessage({\"jupyterEvent\": \"custom.exercise_interaction\", \"data\": {\"outcomeType\": 1, \"valueTowardsCompletion\": 0.25, \"interactionType\": 1, \"questionType\": 2, \"questionId\": \"0_ExerciseFormatTutorial\", \"learnToolsVersion\": \"0.3.4\", \"failureMessage\": \"\", \"exceptionClass\": \"\", \"trace\": \"\"}}, \"*\")"
      ],
      "text/plain": [
       "<IPython.core.display.Javascript object>"
      ]
     },
     "metadata": {},
     "output_type": "display_data"
    },
    {
     "data": {
      "text/markdown": [
       "<span style=\"color:#33cc33\">Correct:</span> What?! You got it right without needing a hint or anything? Drats. Well hey, you should still continue to the next step to get some practice asking for a hint and checking solutions. (Even though you obviously don't need any help here.)"
      ],
      "text/plain": [
       "Correct: What?! You got it right without needing a hint or anything? Drats. Well hey, you should still continue to the next step to get some practice asking for a hint and checking solutions. (Even though you obviously don't need any help here.)"
      ]
     },
     "metadata": {},
     "output_type": "display_data"
    }
   ],
   "source": [
    "# create a variable called color with an appropriate value on the line below\n",
    "# (Remember, strings in Python must be enclosed in 'single' or \"double\" quotes)\n",
    "____\n",
    "color = \"blue\"\n",
    "# Check your answer\n",
    "q0.check()"
   ]
  },
  {
   "cell_type": "markdown",
   "id": "ffd152dd",
   "metadata": {
    "papermill": {
     "duration": 0.008969,
     "end_time": "2023-07-22T13:42:27.380640",
     "exception": false,
     "start_time": "2023-07-22T13:42:27.371671",
     "status": "completed"
    },
    "tags": []
   },
   "source": [
    "Didn't get the right answer? How do you not even know your own favorite color?!\n",
    "\n",
    "Delete the `#` in the line below to make one of the lines run. You can choose between getting a hint or the full answer by choosing which line to remove the `#` from. \n",
    "\n",
    "Removing the `#` is called uncommenting, because it changes that line from a \"comment\" which Python doesn't run to code, which Python does run."
   ]
  },
  {
   "cell_type": "code",
   "execution_count": 4,
   "id": "48b18419",
   "metadata": {
    "execution": {
     "iopub.execute_input": "2023-07-22T13:42:27.401672Z",
     "iopub.status.busy": "2023-07-22T13:42:27.400582Z",
     "iopub.status.idle": "2023-07-22T13:42:27.405714Z",
     "shell.execute_reply": "2023-07-22T13:42:27.404516Z"
    },
    "papermill": {
     "duration": 0.018397,
     "end_time": "2023-07-22T13:42:27.408333",
     "exception": false,
     "start_time": "2023-07-22T13:42:27.389936",
     "status": "completed"
    },
    "tags": []
   },
   "outputs": [],
   "source": [
    "#q0.hint()\n",
    "#q0.solution()"
   ]
  },
  {
   "cell_type": "markdown",
   "id": "3c2ee29d",
   "metadata": {
    "papermill": {
     "duration": 0.009465,
     "end_time": "2023-07-22T13:42:27.427169",
     "exception": false,
     "start_time": "2023-07-22T13:42:27.417704",
     "status": "completed"
    },
    "tags": []
   },
   "source": [
    "The upcoming questions work the same way. The only thing that will change are the question numbers. For the next question, you'll call `q1.check()`, `q1.hint()`, `q1.solution()`, for question 2, you'll call `q2.check()`, and so on."
   ]
  },
  {
   "cell_type": "markdown",
   "id": "ea1fc09f",
   "metadata": {
    "papermill": {
     "duration": 0.008912,
     "end_time": "2023-07-22T13:42:27.445383",
     "exception": false,
     "start_time": "2023-07-22T13:42:27.436471",
     "status": "completed"
    },
    "tags": []
   },
   "source": [
    "<hr/>\n",
    "\n",
    "# 1.\n",
    "\n",
    "Complete the code below. In case it's helpful, here is the table of available arithmetic operations:\n",
    "\n",
    "\n",
    "\n",
    "| Operator     | Name           | Description                                            |\n",
    "|--------------|----------------|--------------------------------------------------------|\n",
    "| ``a + b``    | Addition       | Sum of ``a`` and ``b``                                 |\n",
    "| ``a - b``    | Subtraction    | Difference of ``a`` and ``b``                          |\n",
    "| ``a * b``    | Multiplication | Product of ``a`` and ``b``                             |\n",
    "| ``a / b``    | True division  | Quotient of ``a`` and ``b``                            |\n",
    "| ``a // b``   | Floor division | Quotient of ``a`` and ``b``, removing fractional parts |\n",
    "| ``a % b``    | Modulus        | Integer remainder after division of ``a`` by ``b``     |\n",
    "| ``a ** b``   | Exponentiation | ``a`` raised to the power of ``b``                     |\n",
    "| ``-a``       | Negation       | The negative of ``a``                                  |\n",
    "\n",
    "<span style=\"display:none\"></span>\n"
   ]
  },
  {
   "cell_type": "code",
   "execution_count": 5,
   "id": "487a8d7e",
   "metadata": {
    "execution": {
     "iopub.execute_input": "2023-07-22T13:42:27.465724Z",
     "iopub.status.busy": "2023-07-22T13:42:27.465292Z",
     "iopub.status.idle": "2023-07-22T13:42:27.475724Z",
     "shell.execute_reply": "2023-07-22T13:42:27.474623Z"
    },
    "papermill": {
     "duration": 0.023458,
     "end_time": "2023-07-22T13:42:27.478055",
     "exception": false,
     "start_time": "2023-07-22T13:42:27.454597",
     "status": "completed"
    },
    "tags": []
   },
   "outputs": [
    {
     "data": {
      "application/javascript": [
       "parent.postMessage({\"jupyterEvent\": \"custom.exercise_interaction\", \"data\": {\"outcomeType\": 1, \"valueTowardsCompletion\": 0.25, \"interactionType\": 1, \"questionType\": 1, \"questionId\": \"1_CircleArea\", \"learnToolsVersion\": \"0.3.4\", \"failureMessage\": \"\", \"exceptionClass\": \"\", \"trace\": \"\"}}, \"*\")"
      ],
      "text/plain": [
       "<IPython.core.display.Javascript object>"
      ]
     },
     "metadata": {},
     "output_type": "display_data"
    },
    {
     "data": {
      "text/markdown": [
       "<span style=\"color:#33cc33\">Correct</span>"
      ],
      "text/plain": [
       "Correct"
      ]
     },
     "metadata": {},
     "output_type": "display_data"
    }
   ],
   "source": [
    "pi = 3.14159 # approximate\n",
    "diameter = 3\n",
    "\n",
    "# Create a variable called 'radius' equal to half the diameter\n",
    "radius = diameter/2\n",
    "\n",
    "# Create a variable called 'area', using the formula for the area of a circle: pi times the radius squared\n",
    "\n",
    "area = pi * radius * radius\n",
    "# Check your answer\n",
    "q1.check()"
   ]
  },
  {
   "cell_type": "code",
   "execution_count": 6,
   "id": "73ae98ca",
   "metadata": {
    "execution": {
     "iopub.execute_input": "2023-07-22T13:42:27.499230Z",
     "iopub.status.busy": "2023-07-22T13:42:27.498441Z",
     "iopub.status.idle": "2023-07-22T13:42:27.503033Z",
     "shell.execute_reply": "2023-07-22T13:42:27.501949Z"
    },
    "papermill": {
     "duration": 0.017909,
     "end_time": "2023-07-22T13:42:27.505630",
     "exception": false,
     "start_time": "2023-07-22T13:42:27.487721",
     "status": "completed"
    },
    "tags": []
   },
   "outputs": [],
   "source": [
    "# Uncomment and run the lines below if you need help.\n",
    "#q1.hint()\n",
    "#q1.solution()"
   ]
  },
  {
   "cell_type": "markdown",
   "id": "b73c23ea",
   "metadata": {
    "papermill": {
     "duration": 0.00937,
     "end_time": "2023-07-22T13:42:27.524624",
     "exception": false,
     "start_time": "2023-07-22T13:42:27.515254",
     "status": "completed"
    },
    "tags": []
   },
   "source": [
    "<hr/>\n",
    "\n",
    "# 2.\n",
    "\n",
    "Add code to the following cell to swap variables `a` and `b` (so that `a` refers to the object previously referred to by `b` and vice versa)."
   ]
  },
  {
   "cell_type": "code",
   "execution_count": 7,
   "id": "7e9ff6a3",
   "metadata": {
    "execution": {
     "iopub.execute_input": "2023-07-22T13:42:27.545921Z",
     "iopub.status.busy": "2023-07-22T13:42:27.545227Z",
     "iopub.status.idle": "2023-07-22T13:42:27.555112Z",
     "shell.execute_reply": "2023-07-22T13:42:27.554296Z"
    },
    "papermill": {
     "duration": 0.02295,
     "end_time": "2023-07-22T13:42:27.557140",
     "exception": false,
     "start_time": "2023-07-22T13:42:27.534190",
     "status": "completed"
    },
    "tags": []
   },
   "outputs": [
    {
     "data": {
      "application/javascript": [
       "parent.postMessage({\"jupyterEvent\": \"custom.exercise_interaction\", \"data\": {\"outcomeType\": 1, \"valueTowardsCompletion\": 0.25, \"interactionType\": 1, \"questionType\": 2, \"questionId\": \"2_VariableSwap\", \"learnToolsVersion\": \"0.3.4\", \"failureMessage\": \"\", \"exceptionClass\": \"\", \"trace\": \"\"}}, \"*\")"
      ],
      "text/plain": [
       "<IPython.core.display.Javascript object>"
      ]
     },
     "metadata": {},
     "output_type": "display_data"
    },
    {
     "data": {
      "text/markdown": [
       "<span style=\"color:#33cc33\">Correct:</span> \n",
       "\n",
       "The most straightforward solution is to use a third variable to temporarily store one of the old values. e.g.:\n",
       "\n",
       "    tmp = a\n",
       "    a = b\n",
       "    b = tmp\n",
       "\n",
       "If you've read lots of Python code, you might have seen the following trick to swap two variables in one line:\n",
       "\n",
       "    a, b = b, a\n",
       "\n",
       "We'll demystify this bit of Python magic later when we talk about *tuples*."
      ],
      "text/plain": [
       "Correct: \n",
       "\n",
       "The most straightforward solution is to use a third variable to temporarily store one of the old values. e.g.:\n",
       "\n",
       "    tmp = a\n",
       "    a = b\n",
       "    b = tmp\n",
       "\n",
       "If you've read lots of Python code, you might have seen the following trick to swap two variables in one line:\n",
       "\n",
       "    a, b = b, a\n",
       "\n",
       "We'll demystify this bit of Python magic later when we talk about *tuples*."
      ]
     },
     "metadata": {},
     "output_type": "display_data"
    }
   ],
   "source": [
    "########### Setup code - don't touch this part ######################\n",
    "# If you're curious, these are examples of lists. We'll talk about \n",
    "# them in depth a few lessons from now. For now, just know that they're\n",
    "# yet another type of Python object, like int or float.\n",
    "a = [1, 2, 3]\n",
    "b = [3, 2, 1]\n",
    "q2.store_original_ids()\n",
    "######################################################################\n",
    "\n",
    "# Your code goes here. Swap the values to which a and b refer.\n",
    "# If you get stuck, you can always uncomment one or both of the lines in\n",
    "# the next cell for a hint, or to peek at the solution.\n",
    "a,b= b,a\n",
    "\n",
    "######################################################################\n",
    "\n",
    "# Check your answer\n",
    "q2.check()"
   ]
  },
  {
   "cell_type": "code",
   "execution_count": 8,
   "id": "1125cb4d",
   "metadata": {
    "execution": {
     "iopub.execute_input": "2023-07-22T13:42:27.578942Z",
     "iopub.status.busy": "2023-07-22T13:42:27.578527Z",
     "iopub.status.idle": "2023-07-22T13:42:27.583220Z",
     "shell.execute_reply": "2023-07-22T13:42:27.582072Z"
    },
    "papermill": {
     "duration": 0.018627,
     "end_time": "2023-07-22T13:42:27.585791",
     "exception": false,
     "start_time": "2023-07-22T13:42:27.567164",
     "status": "completed"
    },
    "tags": []
   },
   "outputs": [],
   "source": [
    "#q2.hint()"
   ]
  },
  {
   "cell_type": "code",
   "execution_count": 9,
   "id": "9bcce79a",
   "metadata": {
    "execution": {
     "iopub.execute_input": "2023-07-22T13:42:27.607904Z",
     "iopub.status.busy": "2023-07-22T13:42:27.607416Z",
     "iopub.status.idle": "2023-07-22T13:42:27.612835Z",
     "shell.execute_reply": "2023-07-22T13:42:27.611600Z"
    },
    "papermill": {
     "duration": 0.019191,
     "end_time": "2023-07-22T13:42:27.615140",
     "exception": false,
     "start_time": "2023-07-22T13:42:27.595949",
     "status": "completed"
    },
    "tags": []
   },
   "outputs": [],
   "source": [
    "#q2.solution()"
   ]
  },
  {
   "cell_type": "markdown",
   "id": "93b0c26b",
   "metadata": {
    "papermill": {
     "duration": 0.009779,
     "end_time": "2023-07-22T13:42:27.635189",
     "exception": false,
     "start_time": "2023-07-22T13:42:27.625410",
     "status": "completed"
    },
    "tags": []
   },
   "source": [
    "<hr/>\n",
    "\n",
    "# 3a.\n",
    "\n",
    "Add parentheses to the following expression so that it evaluates to 1."
   ]
  },
  {
   "cell_type": "code",
   "execution_count": 10,
   "id": "a8d0b9e4",
   "metadata": {
    "execution": {
     "iopub.execute_input": "2023-07-22T13:42:27.657280Z",
     "iopub.status.busy": "2023-07-22T13:42:27.656895Z",
     "iopub.status.idle": "2023-07-22T13:42:27.665381Z",
     "shell.execute_reply": "2023-07-22T13:42:27.664090Z"
    },
    "papermill": {
     "duration": 0.022529,
     "end_time": "2023-07-22T13:42:27.667776",
     "exception": false,
     "start_time": "2023-07-22T13:42:27.645247",
     "status": "completed"
    },
    "tags": []
   },
   "outputs": [
    {
     "data": {
      "text/plain": [
       "1"
      ]
     },
     "execution_count": 10,
     "metadata": {},
     "output_type": "execute_result"
    }
   ],
   "source": [
    "(5 - 3 )// 2"
   ]
  },
  {
   "cell_type": "code",
   "execution_count": 11,
   "id": "2be828de",
   "metadata": {
    "execution": {
     "iopub.execute_input": "2023-07-22T13:42:27.691873Z",
     "iopub.status.busy": "2023-07-22T13:42:27.691217Z",
     "iopub.status.idle": "2023-07-22T13:42:27.700605Z",
     "shell.execute_reply": "2023-07-22T13:42:27.699370Z"
    },
    "papermill": {
     "duration": 0.024193,
     "end_time": "2023-07-22T13:42:27.703164",
     "exception": false,
     "start_time": "2023-07-22T13:42:27.678971",
     "status": "completed"
    },
    "tags": []
   },
   "outputs": [
    {
     "data": {
      "application/javascript": [
       "parent.postMessage({\"jupyterEvent\": \"custom.exercise_interaction\", \"data\": {\"interactionType\": 2, \"questionType\": 4, \"questionId\": \"3.1_ArithmeticParensEasy\", \"learnToolsVersion\": \"0.3.4\", \"valueTowardsCompletion\": 0.0, \"failureMessage\": \"\", \"exceptionClass\": \"\", \"trace\": \"\", \"outcomeType\": 4}}, \"*\")"
      ],
      "text/plain": [
       "<IPython.core.display.Javascript object>"
      ]
     },
     "metadata": {},
     "output_type": "display_data"
    },
    {
     "data": {
      "text/markdown": [
       "<span style=\"color:#3366cc\">Hint:</span> Following its default \"BEDMAS\"-like rules for order of operations, Python will first divide 3 by 2, then subtract the result from 5. You need to add parentheses to force it to perform the subtraction first."
      ],
      "text/plain": [
       "Hint: Following its default \"BEDMAS\"-like rules for order of operations, Python will first divide 3 by 2, then subtract the result from 5. You need to add parentheses to force it to perform the subtraction first."
      ]
     },
     "metadata": {},
     "output_type": "display_data"
    }
   ],
   "source": [
    "q3.a.hint()"
   ]
  },
  {
   "cell_type": "code",
   "execution_count": 12,
   "id": "0a8aa4fe",
   "metadata": {
    "execution": {
     "iopub.execute_input": "2023-07-22T13:42:27.727046Z",
     "iopub.status.busy": "2023-07-22T13:42:27.726631Z",
     "iopub.status.idle": "2023-07-22T13:42:27.734530Z",
     "shell.execute_reply": "2023-07-22T13:42:27.733741Z"
    },
    "papermill": {
     "duration": 0.022391,
     "end_time": "2023-07-22T13:42:27.736524",
     "exception": false,
     "start_time": "2023-07-22T13:42:27.714133",
     "status": "completed"
    },
    "tags": []
   },
   "outputs": [
    {
     "data": {
      "application/javascript": [
       "parent.postMessage({\"jupyterEvent\": \"custom.exercise_interaction\", \"data\": {\"interactionType\": 3, \"questionType\": 4, \"questionId\": \"3.1_ArithmeticParensEasy\", \"learnToolsVersion\": \"0.3.4\", \"valueTowardsCompletion\": 0.0, \"failureMessage\": \"\", \"exceptionClass\": \"\", \"trace\": \"\", \"outcomeType\": 4}}, \"*\")"
      ],
      "text/plain": [
       "<IPython.core.display.Javascript object>"
      ]
     },
     "metadata": {},
     "output_type": "display_data"
    },
    {
     "data": {
      "text/markdown": [
       "<span style=\"color:#33cc99\">Solution:</span> \n",
       "```python\n",
       "(5 - 3) // 2\n",
       "```"
      ],
      "text/plain": [
       "Solution: \n",
       "```python\n",
       "(5 - 3) // 2\n",
       "```"
      ]
     },
     "metadata": {},
     "output_type": "display_data"
    }
   ],
   "source": [
    "# Check your answer (Run this code cell to receive credit!)\n",
    "q3.a.solution()"
   ]
  },
  {
   "cell_type": "markdown",
   "id": "c821076d",
   "metadata": {
    "papermill": {
     "duration": 0.010559,
     "end_time": "2023-07-22T13:42:27.757989",
     "exception": false,
     "start_time": "2023-07-22T13:42:27.747430",
     "status": "completed"
    },
    "tags": []
   },
   "source": [
    "# 3b.  <span title=\"A bit spicy\" style=\"color: darkgreen \">🌶️</span>\n",
    "\n",
    "<small>Questions, like this one, marked a spicy pepper are a bit harder.</small>\n",
    "\n",
    "Add parentheses to the following expression so that it evaluates to 0."
   ]
  },
  {
   "cell_type": "code",
   "execution_count": 13,
   "id": "9094203b",
   "metadata": {
    "execution": {
     "iopub.execute_input": "2023-07-22T13:42:27.782937Z",
     "iopub.status.busy": "2023-07-22T13:42:27.782507Z",
     "iopub.status.idle": "2023-07-22T13:42:27.789657Z",
     "shell.execute_reply": "2023-07-22T13:42:27.788398Z"
    },
    "papermill": {
     "duration": 0.022609,
     "end_time": "2023-07-22T13:42:27.792108",
     "exception": false,
     "start_time": "2023-07-22T13:42:27.769499",
     "status": "completed"
    },
    "tags": []
   },
   "outputs": [
    {
     "data": {
      "text/plain": [
       "0"
      ]
     },
     "execution_count": 13,
     "metadata": {},
     "output_type": "execute_result"
    }
   ],
   "source": [
    "(8 - 3 * 2) -(1 + 1)"
   ]
  },
  {
   "cell_type": "code",
   "execution_count": 14,
   "id": "53f954d7",
   "metadata": {
    "execution": {
     "iopub.execute_input": "2023-07-22T13:42:27.816079Z",
     "iopub.status.busy": "2023-07-22T13:42:27.815662Z",
     "iopub.status.idle": "2023-07-22T13:42:27.825632Z",
     "shell.execute_reply": "2023-07-22T13:42:27.824616Z"
    },
    "papermill": {
     "duration": 0.02487,
     "end_time": "2023-07-22T13:42:27.827983",
     "exception": false,
     "start_time": "2023-07-22T13:42:27.803113",
     "status": "completed"
    },
    "tags": []
   },
   "outputs": [
    {
     "data": {
      "application/javascript": [
       "parent.postMessage({\"jupyterEvent\": \"custom.exercise_interaction\", \"data\": {\"interactionType\": 2, \"questionType\": 4, \"questionId\": \"3.2_ArithmeticParensHard\", \"learnToolsVersion\": \"0.3.4\", \"valueTowardsCompletion\": 0.0, \"failureMessage\": \"\", \"exceptionClass\": \"\", \"trace\": \"\", \"outcomeType\": 4}}, \"*\")"
      ],
      "text/plain": [
       "<IPython.core.display.Javascript object>"
      ]
     },
     "metadata": {},
     "output_type": "display_data"
    },
    {
     "data": {
      "text/markdown": [
       "<span style=\"color:#3366cc\">Hint:</span> You may need to use several pairs of parentheses."
      ],
      "text/plain": [
       "Hint: You may need to use several pairs of parentheses."
      ]
     },
     "metadata": {},
     "output_type": "display_data"
    }
   ],
   "source": [
    "q3.b.hint()"
   ]
  },
  {
   "cell_type": "code",
   "execution_count": 15,
   "id": "a9c7c920",
   "metadata": {
    "execution": {
     "iopub.execute_input": "2023-07-22T13:42:27.853975Z",
     "iopub.status.busy": "2023-07-22T13:42:27.853513Z",
     "iopub.status.idle": "2023-07-22T13:42:27.862774Z",
     "shell.execute_reply": "2023-07-22T13:42:27.861629Z"
    },
    "papermill": {
     "duration": 0.025441,
     "end_time": "2023-07-22T13:42:27.865303",
     "exception": false,
     "start_time": "2023-07-22T13:42:27.839862",
     "status": "completed"
    },
    "tags": []
   },
   "outputs": [
    {
     "data": {
      "application/javascript": [
       "parent.postMessage({\"jupyterEvent\": \"custom.exercise_interaction\", \"data\": {\"interactionType\": 3, \"questionType\": 4, \"questionId\": \"3.2_ArithmeticParensHard\", \"learnToolsVersion\": \"0.3.4\", \"valueTowardsCompletion\": 0.0, \"failureMessage\": \"\", \"exceptionClass\": \"\", \"trace\": \"\", \"outcomeType\": 4}}, \"*\")"
      ],
      "text/plain": [
       "<IPython.core.display.Javascript object>"
      ]
     },
     "metadata": {},
     "output_type": "display_data"
    },
    {
     "data": {
      "text/markdown": [
       "<span style=\"color:#33cc99\">Solution:</span> `(8 - 3) * (2 - (1 + 1))` is one solution. There may be others."
      ],
      "text/plain": [
       "Solution: `(8 - 3) * (2 - (1 + 1))` is one solution. There may be others."
      ]
     },
     "metadata": {},
     "output_type": "display_data"
    }
   ],
   "source": [
    "# Check your answer (Run this code cell to receive credit!)\n",
    "q3.b.solution()"
   ]
  },
  {
   "cell_type": "markdown",
   "id": "24cab860",
   "metadata": {
    "papermill": {
     "duration": 0.011581,
     "end_time": "2023-07-22T13:42:27.889240",
     "exception": false,
     "start_time": "2023-07-22T13:42:27.877659",
     "status": "completed"
    },
    "tags": []
   },
   "source": [
    "<hr/>\n",
    "\n",
    "# 4. \n",
    "Alice, Bob and Carol have agreed to pool their Halloween candy and split it evenly among themselves.\n",
    "For the sake of their friendship, any candies left over will be smashed. For example, if they collectively\n",
    "bring home 91 candies, they'll take 30 each and smash 1.\n",
    "\n",
    "Write an arithmetic expression below to calculate how many candies they must smash for a given haul."
   ]
  },
  {
   "cell_type": "code",
   "execution_count": 16,
   "id": "5aa7f683",
   "metadata": {
    "execution": {
     "iopub.execute_input": "2023-07-22T13:42:27.915052Z",
     "iopub.status.busy": "2023-07-22T13:42:27.914611Z",
     "iopub.status.idle": "2023-07-22T13:42:27.925317Z",
     "shell.execute_reply": "2023-07-22T13:42:27.924368Z"
    },
    "papermill": {
     "duration": 0.026695,
     "end_time": "2023-07-22T13:42:27.927901",
     "exception": false,
     "start_time": "2023-07-22T13:42:27.901206",
     "status": "completed"
    },
    "tags": []
   },
   "outputs": [
    {
     "data": {
      "application/javascript": [
       "parent.postMessage({\"jupyterEvent\": \"custom.exercise_interaction\", \"data\": {\"outcomeType\": 1, \"valueTowardsCompletion\": 0.25, \"interactionType\": 1, \"questionType\": 1, \"questionId\": \"4_CandySplitting\", \"learnToolsVersion\": \"0.3.4\", \"failureMessage\": \"\", \"exceptionClass\": \"\", \"trace\": \"\"}}, \"*\")"
      ],
      "text/plain": [
       "<IPython.core.display.Javascript object>"
      ]
     },
     "metadata": {},
     "output_type": "display_data"
    },
    {
     "data": {
      "text/markdown": [
       "<span style=\"color:#33cc33\">Correct</span>"
      ],
      "text/plain": [
       "Correct"
      ]
     },
     "metadata": {},
     "output_type": "display_data"
    }
   ],
   "source": [
    "# Variables representing the number of candies collected by alice, bob, and carol\n",
    "alice_candies = 121\n",
    "bob_candies = 77\n",
    "carol_candies = 109\n",
    "\n",
    "# Your code goes here! Replace the right-hand side of this assignment with an expression\n",
    "# involving alice_candies, bob_candies, and carol_candies\n",
    "to_smash = (alice_candies+bob_candies+carol_candies)%3\n",
    "\n",
    "# Check your answer\n",
    "q4.check()"
   ]
  },
  {
   "cell_type": "code",
   "execution_count": 17,
   "id": "e1a180ee",
   "metadata": {
    "execution": {
     "iopub.execute_input": "2023-07-22T13:42:27.954422Z",
     "iopub.status.busy": "2023-07-22T13:42:27.953979Z",
     "iopub.status.idle": "2023-07-22T13:42:27.958793Z",
     "shell.execute_reply": "2023-07-22T13:42:27.957562Z"
    },
    "papermill": {
     "duration": 0.021235,
     "end_time": "2023-07-22T13:42:27.961250",
     "exception": false,
     "start_time": "2023-07-22T13:42:27.940015",
     "status": "completed"
    },
    "tags": []
   },
   "outputs": [],
   "source": [
    "#q4.hint()\n",
    "#q4.solution()"
   ]
  },
  {
   "cell_type": "markdown",
   "id": "bcc6d4cd",
   "metadata": {
    "papermill": {
     "duration": 0.011749,
     "end_time": "2023-07-22T13:42:27.985642",
     "exception": false,
     "start_time": "2023-07-22T13:42:27.973893",
     "status": "completed"
    },
    "tags": []
   },
   "source": [
    "# Keep Going\n",
    "\n",
    "Next up, you'll **[learn to write new functions and understand functions others write](https://www.kaggle.com/colinmorris/functions-and-getting-help)**. This will make you at least 10 times more productive as a Python programmer. "
   ]
  },
  {
   "cell_type": "markdown",
   "id": "1da6e8f3",
   "metadata": {
    "papermill": {
     "duration": 0.012139,
     "end_time": "2023-07-22T13:42:28.009948",
     "exception": false,
     "start_time": "2023-07-22T13:42:27.997809",
     "status": "completed"
    },
    "tags": []
   },
   "source": [
    "---\n",
    "\n",
    "\n",
    "\n",
    "\n",
    "*Have questions or comments? Visit the [course discussion forum](https://www.kaggle.com/learn/python/discussion) to chat with other learners.*"
   ]
  }
 ],
 "metadata": {
  "kernelspec": {
   "display_name": "Python 3",
   "language": "python",
   "name": "python3"
  },
  "language_info": {
   "codemirror_mode": {
    "name": "ipython",
    "version": 3
   },
   "file_extension": ".py",
   "mimetype": "text/x-python",
   "name": "python",
   "nbconvert_exporter": "python",
   "pygments_lexer": "ipython3",
   "version": "3.10.12"
  },
  "papermill": {
   "default_parameters": {},
   "duration": 14.041251,
   "end_time": "2023-07-22T13:42:28.944726",
   "environment_variables": {},
   "exception": null,
   "input_path": "__notebook__.ipynb",
   "output_path": "__notebook__.ipynb",
   "parameters": {},
   "start_time": "2023-07-22T13:42:14.903475",
   "version": "2.4.0"
  }
 },
 "nbformat": 4,
 "nbformat_minor": 5
}
