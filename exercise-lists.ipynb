{
 "cells": [
  {
   "cell_type": "markdown",
   "id": "db87daf7",
   "metadata": {
    "papermill": {
     "duration": 0.004874,
     "end_time": "2023-07-25T09:51:09.816778",
     "exception": false,
     "start_time": "2023-07-25T09:51:09.811904",
     "status": "completed"
    },
    "tags": []
   },
   "source": [
    "**This notebook is an exercise in the [Python](https://www.kaggle.com/learn/python) course.  You can reference the tutorial at [this link](https://www.kaggle.com/colinmorris/lists).**\n",
    "\n",
    "---\n"
   ]
  },
  {
   "cell_type": "markdown",
   "id": "60fea0bb",
   "metadata": {
    "papermill": {
     "duration": 0.003783,
     "end_time": "2023-07-25T09:51:09.824746",
     "exception": false,
     "start_time": "2023-07-25T09:51:09.820963",
     "status": "completed"
    },
    "tags": []
   },
   "source": [
    "Things get more interesting with lists. You'll apply your new knowledge to solve the questions below. Remember to run the following cell first."
   ]
  },
  {
   "cell_type": "code",
   "execution_count": 1,
   "id": "9a5f8d33",
   "metadata": {
    "execution": {
     "iopub.execute_input": "2023-07-25T09:51:09.834453Z",
     "iopub.status.busy": "2023-07-25T09:51:09.834105Z",
     "iopub.status.idle": "2023-07-25T09:51:09.877871Z",
     "shell.execute_reply": "2023-07-25T09:51:09.877030Z"
    },
    "papermill": {
     "duration": 0.051044,
     "end_time": "2023-07-25T09:51:09.879858",
     "exception": false,
     "start_time": "2023-07-25T09:51:09.828814",
     "status": "completed"
    },
    "tags": []
   },
   "outputs": [
    {
     "name": "stdout",
     "output_type": "stream",
     "text": [
      "Setup complete.\n"
     ]
    }
   ],
   "source": [
    "from learntools.core import binder; binder.bind(globals())\n",
    "from learntools.python.ex4 import *\n",
    "print('Setup complete.')"
   ]
  },
  {
   "cell_type": "markdown",
   "id": "11aab1f1",
   "metadata": {
    "papermill": {
     "duration": 0.003722,
     "end_time": "2023-07-25T09:51:09.887589",
     "exception": false,
     "start_time": "2023-07-25T09:51:09.883867",
     "status": "completed"
    },
    "tags": []
   },
   "source": [
    "# 1.\n",
    "\n",
    "Complete the function below according to its docstring."
   ]
  },
  {
   "cell_type": "code",
   "execution_count": 2,
   "id": "17190c67",
   "metadata": {
    "execution": {
     "iopub.execute_input": "2023-07-25T09:51:09.898274Z",
     "iopub.status.busy": "2023-07-25T09:51:09.897882Z",
     "iopub.status.idle": "2023-07-25T09:51:09.908576Z",
     "shell.execute_reply": "2023-07-25T09:51:09.907628Z"
    },
    "papermill": {
     "duration": 0.017969,
     "end_time": "2023-07-25T09:51:09.910339",
     "exception": false,
     "start_time": "2023-07-25T09:51:09.892370",
     "status": "completed"
    },
    "tags": []
   },
   "outputs": [
    {
     "data": {
      "application/javascript": [
       "parent.postMessage({\"jupyterEvent\": \"custom.exercise_interaction\", \"data\": {\"outcomeType\": 1, \"valueTowardsCompletion\": 0.2, \"interactionType\": 1, \"questionType\": 2, \"questionId\": \"1_SelectSecondItem\", \"learnToolsVersion\": \"0.3.4\", \"failureMessage\": \"\", \"exceptionClass\": \"\", \"trace\": \"\"}}, \"*\")"
      ],
      "text/plain": [
       "<IPython.core.display.Javascript object>"
      ]
     },
     "metadata": {},
     "output_type": "display_data"
    },
    {
     "data": {
      "text/markdown": [
       "<span style=\"color:#33cc33\">Correct</span>"
      ],
      "text/plain": [
       "Correct"
      ]
     },
     "metadata": {},
     "output_type": "display_data"
    }
   ],
   "source": [
    "def select_second(L):\n",
    "    \"\"\"Return the second element of the given list. If the list has no second\n",
    "    element, return None.\n",
    "    \"\"\"\n",
    "    if len(L)<2:\n",
    "        return None\n",
    "    else :\n",
    "        return L[1]\n",
    "    \n",
    "\n",
    "# Check your answer\n",
    "q1.check()"
   ]
  },
  {
   "cell_type": "code",
   "execution_count": 3,
   "id": "31f3bf04",
   "metadata": {
    "collapsed": true,
    "execution": {
     "iopub.execute_input": "2023-07-25T09:51:09.920667Z",
     "iopub.status.busy": "2023-07-25T09:51:09.920302Z",
     "iopub.status.idle": "2023-07-25T09:51:09.923959Z",
     "shell.execute_reply": "2023-07-25T09:51:09.923122Z"
    },
    "jupyter": {
     "outputs_hidden": true
    },
    "papermill": {
     "duration": 0.01105,
     "end_time": "2023-07-25T09:51:09.925745",
     "exception": false,
     "start_time": "2023-07-25T09:51:09.914695",
     "status": "completed"
    },
    "tags": []
   },
   "outputs": [],
   "source": [
    "#q1.hint()\n",
    "#q1.solution()"
   ]
  },
  {
   "cell_type": "markdown",
   "id": "fd210f12",
   "metadata": {
    "papermill": {
     "duration": 0.003952,
     "end_time": "2023-07-25T09:51:09.934230",
     "exception": false,
     "start_time": "2023-07-25T09:51:09.930278",
     "status": "completed"
    },
    "tags": []
   },
   "source": [
    "# 2.\n",
    "\n",
    "You are analyzing sports teams.  Members of each team are stored in a list. The Coach is the first name in the list, the captain is the second name in the list, and other players are listed after that. \n",
    "These lists are stored in another list, which starts with the best team and proceeds through the list to the worst team last.  Complete the function below to select the **captain** of the worst team."
   ]
  },
  {
   "cell_type": "code",
   "execution_count": 4,
   "id": "9ab35d5a",
   "metadata": {
    "execution": {
     "iopub.execute_input": "2023-07-25T09:51:09.944600Z",
     "iopub.status.busy": "2023-07-25T09:51:09.944266Z",
     "iopub.status.idle": "2023-07-25T09:51:09.954351Z",
     "shell.execute_reply": "2023-07-25T09:51:09.952410Z"
    },
    "papermill": {
     "duration": 0.018189,
     "end_time": "2023-07-25T09:51:09.956706",
     "exception": false,
     "start_time": "2023-07-25T09:51:09.938517",
     "status": "completed"
    },
    "tags": []
   },
   "outputs": [
    {
     "data": {
      "application/javascript": [
       "parent.postMessage({\"jupyterEvent\": \"custom.exercise_interaction\", \"data\": {\"outcomeType\": 1, \"valueTowardsCompletion\": 0.2, \"interactionType\": 1, \"questionType\": 2, \"questionId\": \"2_LosingTeamCaptain\", \"learnToolsVersion\": \"0.3.4\", \"failureMessage\": \"\", \"exceptionClass\": \"\", \"trace\": \"\"}}, \"*\")"
      ],
      "text/plain": [
       "<IPython.core.display.Javascript object>"
      ]
     },
     "metadata": {},
     "output_type": "display_data"
    },
    {
     "data": {
      "text/markdown": [
       "<span style=\"color:#33cc33\">Correct</span>"
      ],
      "text/plain": [
       "Correct"
      ]
     },
     "metadata": {},
     "output_type": "display_data"
    }
   ],
   "source": [
    "def losing_team_captain(teams):\n",
    "    \"\"\"Given a list of teams, where each team is a list of names, return the 2nd player (captain)\n",
    "    from the last listed team\n",
    "    \"\"\"\n",
    "    return teams[-1][1]\n",
    "\n",
    "# Check your answer\n",
    "q2.check()"
   ]
  },
  {
   "cell_type": "code",
   "execution_count": 5,
   "id": "e6fa58f3",
   "metadata": {
    "collapsed": true,
    "execution": {
     "iopub.execute_input": "2023-07-25T09:51:09.967672Z",
     "iopub.status.busy": "2023-07-25T09:51:09.967276Z",
     "iopub.status.idle": "2023-07-25T09:51:09.971164Z",
     "shell.execute_reply": "2023-07-25T09:51:09.970345Z"
    },
    "jupyter": {
     "outputs_hidden": true
    },
    "papermill": {
     "duration": 0.011601,
     "end_time": "2023-07-25T09:51:09.973070",
     "exception": false,
     "start_time": "2023-07-25T09:51:09.961469",
     "status": "completed"
    },
    "tags": []
   },
   "outputs": [],
   "source": [
    "#q2.hint()\n",
    "#q2.solution()"
   ]
  },
  {
   "cell_type": "markdown",
   "id": "ca2b5e30",
   "metadata": {
    "papermill": {
     "duration": 0.004397,
     "end_time": "2023-07-25T09:51:09.983571",
     "exception": false,
     "start_time": "2023-07-25T09:51:09.979174",
     "status": "completed"
    },
    "tags": []
   },
   "source": [
    "# 3.\n",
    "\n",
    "The next iteration of Mario Kart will feature an extra-infuriating new item, the *Purple Shell*. When used, it warps the last place racer into first place and the first place racer into last place. Complete the function below to implement the Purple Shell's effect."
   ]
  },
  {
   "cell_type": "code",
   "execution_count": 6,
   "id": "ae0af5ad",
   "metadata": {
    "execution": {
     "iopub.execute_input": "2023-07-25T09:51:09.994431Z",
     "iopub.status.busy": "2023-07-25T09:51:09.994010Z",
     "iopub.status.idle": "2023-07-25T09:51:10.002625Z",
     "shell.execute_reply": "2023-07-25T09:51:10.001830Z"
    },
    "papermill": {
     "duration": 0.016424,
     "end_time": "2023-07-25T09:51:10.004414",
     "exception": false,
     "start_time": "2023-07-25T09:51:09.987990",
     "status": "completed"
    },
    "tags": []
   },
   "outputs": [
    {
     "data": {
      "application/javascript": [
       "parent.postMessage({\"jupyterEvent\": \"custom.exercise_interaction\", \"data\": {\"outcomeType\": 1, \"valueTowardsCompletion\": 0.2, \"interactionType\": 1, \"questionType\": 2, \"questionId\": \"3_PurpleShell\", \"learnToolsVersion\": \"0.3.4\", \"failureMessage\": \"\", \"exceptionClass\": \"\", \"trace\": \"\"}}, \"*\")"
      ],
      "text/plain": [
       "<IPython.core.display.Javascript object>"
      ]
     },
     "metadata": {},
     "output_type": "display_data"
    },
    {
     "data": {
      "text/markdown": [
       "<span style=\"color:#33cc33\">Correct</span>"
      ],
      "text/plain": [
       "Correct"
      ]
     },
     "metadata": {},
     "output_type": "display_data"
    }
   ],
   "source": [
    "def purple_shell(racers):\n",
    "    \"\"\"Given a list of racers, set the first place racer (at the front of the list) to last\n",
    "    place and vice versa.\n",
    "    \n",
    "    >>> r = [\"Mario\", \"Bowser\", \"Luigi\"]\n",
    "    >>> purple_shell(r)\n",
    "    >>> r\n",
    "    [\"Luigi\", \"Bowser\", \"Mario\"]\n",
    "    \"\"\"\n",
    "    first_racer = racers[0]\n",
    "    last_racer = racers[-1]\n",
    "\n",
    "    racers[0] = last_racer\n",
    "    racers[-1] = first_racer\n",
    "\n",
    "    \n",
    "\n",
    "# Check your answer\n",
    "q3.check()"
   ]
  },
  {
   "cell_type": "code",
   "execution_count": 7,
   "id": "bb1d7ac0",
   "metadata": {
    "collapsed": true,
    "execution": {
     "iopub.execute_input": "2023-07-25T09:51:10.016967Z",
     "iopub.status.busy": "2023-07-25T09:51:10.016628Z",
     "iopub.status.idle": "2023-07-25T09:51:10.020754Z",
     "shell.execute_reply": "2023-07-25T09:51:10.019742Z"
    },
    "jupyter": {
     "outputs_hidden": true
    },
    "papermill": {
     "duration": 0.013475,
     "end_time": "2023-07-25T09:51:10.023465",
     "exception": false,
     "start_time": "2023-07-25T09:51:10.009990",
     "status": "completed"
    },
    "tags": []
   },
   "outputs": [],
   "source": [
    "#q3.hint()\n",
    "#q3.solution()"
   ]
  },
  {
   "cell_type": "markdown",
   "id": "3cf1e37f",
   "metadata": {
    "papermill": {
     "duration": 0.005016,
     "end_time": "2023-07-25T09:51:10.033885",
     "exception": false,
     "start_time": "2023-07-25T09:51:10.028869",
     "status": "completed"
    },
    "tags": []
   },
   "source": [
    "# 4.\n",
    "\n",
    "What are the lengths of the following lists? Fill in the variable `lengths` with your predictions. (Try to make a prediction for each list *without* just calling `len()` on it.)"
   ]
  },
  {
   "cell_type": "code",
   "execution_count": 8,
   "id": "88eb123c",
   "metadata": {
    "execution": {
     "iopub.execute_input": "2023-07-25T09:51:10.047489Z",
     "iopub.status.busy": "2023-07-25T09:51:10.047111Z",
     "iopub.status.idle": "2023-07-25T09:51:10.057901Z",
     "shell.execute_reply": "2023-07-25T09:51:10.056383Z"
    },
    "papermill": {
     "duration": 0.021111,
     "end_time": "2023-07-25T09:51:10.060917",
     "exception": false,
     "start_time": "2023-07-25T09:51:10.039806",
     "status": "completed"
    },
    "tags": []
   },
   "outputs": [
    {
     "data": {
      "application/javascript": [
       "parent.postMessage({\"jupyterEvent\": \"custom.exercise_interaction\", \"data\": {\"outcomeType\": 1, \"valueTowardsCompletion\": 0.2, \"interactionType\": 1, \"questionType\": 1, \"questionId\": \"4_UnderstandLen\", \"learnToolsVersion\": \"0.3.4\", \"failureMessage\": \"\", \"exceptionClass\": \"\", \"trace\": \"\"}}, \"*\")"
      ],
      "text/plain": [
       "<IPython.core.display.Javascript object>"
      ]
     },
     "metadata": {},
     "output_type": "display_data"
    },
    {
     "data": {
      "text/markdown": [
       "<span style=\"color:#33cc33\">Correct:</span> \n",
       "\n",
       "\n",
       "- a: There are three items in this list. Nothing tricky yet.\n",
       "- b: The list `[2, 3]` counts as a single item. It has one item before it. So we have 2 items in the list\n",
       "- c: The empty list has 0 items\n",
       "- d: The expression is the same as the list `[2, 3]`, which has length 2."
      ],
      "text/plain": [
       "Correct: \n",
       "\n",
       "\n",
       "- a: There are three items in this list. Nothing tricky yet.\n",
       "- b: The list `[2, 3]` counts as a single item. It has one item before it. So we have 2 items in the list\n",
       "- c: The empty list has 0 items\n",
       "- d: The expression is the same as the list `[2, 3]`, which has length 2."
      ]
     },
     "metadata": {},
     "output_type": "display_data"
    }
   ],
   "source": [
    "a = [1, 2, 3]\n",
    "b = [1, [2, 3]]\n",
    "c = []\n",
    "d = [1, 2, 3][1:]\n",
    "\n",
    "# Put your predictions in the list below. Lengths should contain 4 numbers, the\n",
    "# first being the length of a, the second being the length of b and so on.\n",
    "lengths = [3,2,0,2]\n",
    "\n",
    "# Check your answer\n",
    "q4.check()"
   ]
  },
  {
   "cell_type": "code",
   "execution_count": 9,
   "id": "5e0e27ee",
   "metadata": {
    "collapsed": true,
    "execution": {
     "iopub.execute_input": "2023-07-25T09:51:10.073156Z",
     "iopub.status.busy": "2023-07-25T09:51:10.072791Z",
     "iopub.status.idle": "2023-07-25T09:51:10.076234Z",
     "shell.execute_reply": "2023-07-25T09:51:10.075408Z"
    },
    "jupyter": {
     "outputs_hidden": true
    },
    "papermill": {
     "duration": 0.012084,
     "end_time": "2023-07-25T09:51:10.078252",
     "exception": false,
     "start_time": "2023-07-25T09:51:10.066168",
     "status": "completed"
    },
    "tags": []
   },
   "outputs": [],
   "source": [
    "# line below provides some explanation\n",
    "#q4.solution()"
   ]
  },
  {
   "cell_type": "markdown",
   "id": "ccd217bc",
   "metadata": {
    "papermill": {
     "duration": 0.005018,
     "end_time": "2023-07-25T09:51:10.088854",
     "exception": false,
     "start_time": "2023-07-25T09:51:10.083836",
     "status": "completed"
    },
    "tags": []
   },
   "source": [
    "# 5. <span title=\"A bit spicy\" style=\"color: darkgreen \">🌶️</span>\n",
    "\n",
    "We're using lists to record people who attended our party and what order they arrived in. For example, the following list represents a party with 7 guests, in which Adela showed up first and Ford was the last to arrive:\n",
    "\n",
    "    party_attendees = ['Adela', 'Fleda', 'Owen', 'May', 'Mona', 'Gilbert', 'Ford']\n",
    "\n",
    "A guest is considered 'fashionably late' if they arrived after at least half of the party's guests. However, they must not be the very last guest (that's taking it too far). In the above example, Mona and Gilbert are the only guests who were fashionably late.\n",
    "\n",
    "Complete the function below which takes a list of party attendees as well as a person, and tells us whether that person is fashionably late."
   ]
  },
  {
   "cell_type": "code",
   "execution_count": 10,
   "id": "bc76ae7b",
   "metadata": {
    "execution": {
     "iopub.execute_input": "2023-07-25T09:51:10.102278Z",
     "iopub.status.busy": "2023-07-25T09:51:10.101673Z",
     "iopub.status.idle": "2023-07-25T09:51:10.111327Z",
     "shell.execute_reply": "2023-07-25T09:51:10.110277Z"
    },
    "papermill": {
     "duration": 0.019035,
     "end_time": "2023-07-25T09:51:10.113220",
     "exception": false,
     "start_time": "2023-07-25T09:51:10.094185",
     "status": "completed"
    },
    "tags": []
   },
   "outputs": [
    {
     "data": {
      "application/javascript": [
       "parent.postMessage({\"jupyterEvent\": \"custom.exercise_interaction\", \"data\": {\"outcomeType\": 1, \"valueTowardsCompletion\": 0.2, \"interactionType\": 1, \"questionType\": 2, \"questionId\": \"5_FashionablyLate\", \"learnToolsVersion\": \"0.3.4\", \"failureMessage\": \"\", \"exceptionClass\": \"\", \"trace\": \"\"}}, \"*\")"
      ],
      "text/plain": [
       "<IPython.core.display.Javascript object>"
      ]
     },
     "metadata": {},
     "output_type": "display_data"
    },
    {
     "data": {
      "text/markdown": [
       "<span style=\"color:#33cc33\">Correct</span>"
      ],
      "text/plain": [
       "Correct"
      ]
     },
     "metadata": {},
     "output_type": "display_data"
    }
   ],
   "source": [
    "def fashionably_late(arrivals, name):\n",
    "    \"\"\"Given an ordered list of arrivals to the party and a name, return whether the guest with that\n",
    "    name was fashionably late.\n",
    "    \"\"\"\n",
    "    person_index = arrivals.index(name)\n",
    "    \n",
    "    # Calculate the number of guests (excluding the last guest)\n",
    "    total_guests = len(arrivals) - 1\n",
    "    \n",
    "    # Check if the person is fashionably late\n",
    "    if person_index > total_guests / 2 and person_index != len(arrivals) - 1:\n",
    "        return True\n",
    "    else:\n",
    "        return False\n",
    "\n",
    "# Check your answer\n",
    "q5.check()"
   ]
  },
  {
   "cell_type": "code",
   "execution_count": 11,
   "id": "20723ba2",
   "metadata": {
    "collapsed": true,
    "execution": {
     "iopub.execute_input": "2023-07-25T09:51:10.126958Z",
     "iopub.status.busy": "2023-07-25T09:51:10.126362Z",
     "iopub.status.idle": "2023-07-25T09:51:10.130776Z",
     "shell.execute_reply": "2023-07-25T09:51:10.129646Z"
    },
    "jupyter": {
     "outputs_hidden": true
    },
    "papermill": {
     "duration": 0.014299,
     "end_time": "2023-07-25T09:51:10.133376",
     "exception": false,
     "start_time": "2023-07-25T09:51:10.119077",
     "status": "completed"
    },
    "tags": []
   },
   "outputs": [],
   "source": [
    "#q5.hint()\n",
    "#q5.solution()"
   ]
  },
  {
   "cell_type": "markdown",
   "id": "bb60d15c",
   "metadata": {
    "papermill": {
     "duration": 0.005349,
     "end_time": "2023-07-25T09:51:10.144620",
     "exception": false,
     "start_time": "2023-07-25T09:51:10.139271",
     "status": "completed"
    },
    "tags": []
   },
   "source": [
    "# Keep Going\n",
    "\n",
    "That's it for lists and tuples! Now you have the baseline knowledge to **[learn about loops](https://www.kaggle.com/colinmorris/loops-and-list-comprehensions)**, which is where lists and tuples get really interesting. "
   ]
  },
  {
   "cell_type": "markdown",
   "id": "981d9a5c",
   "metadata": {
    "papermill": {
     "duration": 0.006557,
     "end_time": "2023-07-25T09:51:10.156859",
     "exception": false,
     "start_time": "2023-07-25T09:51:10.150302",
     "status": "completed"
    },
    "tags": []
   },
   "source": [
    "---\n",
    "\n",
    "\n",
    "\n",
    "\n",
    "*Have questions or comments? Visit the [course discussion forum](https://www.kaggle.com/learn/python/discussion) to chat with other learners.*"
   ]
  }
 ],
 "metadata": {
  "kernelspec": {
   "display_name": "Python 3",
   "language": "python",
   "name": "python3"
  },
  "language_info": {
   "codemirror_mode": {
    "name": "ipython",
    "version": 3
   },
   "file_extension": ".py",
   "mimetype": "text/x-python",
   "name": "python",
   "nbconvert_exporter": "python",
   "pygments_lexer": "ipython3",
   "version": "3.10.12"
  },
  "papermill": {
   "default_parameters": {},
   "duration": 10.000393,
   "end_time": "2023-07-25T09:51:10.985118",
   "environment_variables": {},
   "exception": null,
   "input_path": "__notebook__.ipynb",
   "output_path": "__notebook__.ipynb",
   "parameters": {},
   "start_time": "2023-07-25T09:51:00.984725",
   "version": "2.4.0"
  }
 },
 "nbformat": 4,
 "nbformat_minor": 5
}
