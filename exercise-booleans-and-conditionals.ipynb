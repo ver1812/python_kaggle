{
 "cells": [
  {
   "cell_type": "markdown",
   "id": "fc540906",
   "metadata": {
    "papermill": {
     "duration": 0.012331,
     "end_time": "2023-07-23T05:25:36.340942",
     "exception": false,
     "start_time": "2023-07-23T05:25:36.328611",
     "status": "completed"
    },
    "tags": []
   },
   "source": [
    "**This notebook is an exercise in the [Python](https://www.kaggle.com/learn/python) course.  You can reference the tutorial at [this link](https://www.kaggle.com/colinmorris/booleans-and-conditionals).**\n",
    "\n",
    "---\n"
   ]
  },
  {
   "cell_type": "markdown",
   "id": "de888ff3",
   "metadata": {
    "papermill": {
     "duration": 0.01123,
     "end_time": "2023-07-23T05:25:36.364028",
     "exception": false,
     "start_time": "2023-07-23T05:25:36.352798",
     "status": "completed"
    },
    "tags": []
   },
   "source": [
    "In this exercise, you'll put to work what you have learned about booleans and conditionals.\n",
    "\n",
    "To get started, **run the setup code below** before writing your own code (and if you leave this notebook and come back later, don't forget to run the setup code again)."
   ]
  },
  {
   "cell_type": "code",
   "execution_count": 1,
   "id": "dab43cee",
   "metadata": {
    "execution": {
     "iopub.execute_input": "2023-07-23T05:25:36.389182Z",
     "iopub.status.busy": "2023-07-23T05:25:36.388639Z",
     "iopub.status.idle": "2023-07-23T05:25:36.440863Z",
     "shell.execute_reply": "2023-07-23T05:25:36.439674Z"
    },
    "papermill": {
     "duration": 0.06786,
     "end_time": "2023-07-23T05:25:36.443471",
     "exception": false,
     "start_time": "2023-07-23T05:25:36.375611",
     "status": "completed"
    },
    "tags": []
   },
   "outputs": [
    {
     "name": "stdout",
     "output_type": "stream",
     "text": [
      "Setup complete.\n"
     ]
    }
   ],
   "source": [
    "from learntools.core import binder; binder.bind(globals())\n",
    "from learntools.python.ex3 import *\n",
    "print('Setup complete.')"
   ]
  },
  {
   "cell_type": "markdown",
   "id": "affb7923",
   "metadata": {
    "papermill": {
     "duration": 0.011389,
     "end_time": "2023-07-23T05:25:36.466810",
     "exception": false,
     "start_time": "2023-07-23T05:25:36.455421",
     "status": "completed"
    },
    "tags": []
   },
   "source": [
    "# 1.\n",
    "\n",
    "Many programming languages have [`sign`](https://en.wikipedia.org/wiki/Sign_function) available as a built-in function. Python doesn't, but we can define our own!\n",
    "\n",
    "In the cell below, define a function called `sign` which takes a numerical argument and returns -1 if it's negative, 1 if it's positive, and 0 if it's 0."
   ]
  },
  {
   "cell_type": "code",
   "execution_count": 2,
   "id": "b6636b1a",
   "metadata": {
    "execution": {
     "iopub.execute_input": "2023-07-23T05:25:36.493582Z",
     "iopub.status.busy": "2023-07-23T05:25:36.493167Z",
     "iopub.status.idle": "2023-07-23T05:25:36.505884Z",
     "shell.execute_reply": "2023-07-23T05:25:36.504797Z"
    },
    "papermill": {
     "duration": 0.027908,
     "end_time": "2023-07-23T05:25:36.508064",
     "exception": false,
     "start_time": "2023-07-23T05:25:36.480156",
     "status": "completed"
    },
    "tags": []
   },
   "outputs": [
    {
     "name": "stdout",
     "output_type": "stream",
     "text": [
      "-1\n"
     ]
    },
    {
     "data": {
      "application/javascript": [
       "parent.postMessage({\"jupyterEvent\": \"custom.exercise_interaction\", \"data\": {\"outcomeType\": 1, \"valueTowardsCompletion\": 0.2, \"interactionType\": 1, \"questionType\": 2, \"questionId\": \"1_SignFunctionProblem\", \"learnToolsVersion\": \"0.3.4\", \"failureMessage\": \"\", \"exceptionClass\": \"\", \"trace\": \"\"}}, \"*\")"
      ],
      "text/plain": [
       "<IPython.core.display.Javascript object>"
      ]
     },
     "metadata": {},
     "output_type": "display_data"
    },
    {
     "data": {
      "text/markdown": [
       "<span style=\"color:#33cc33\">Correct</span>"
      ],
      "text/plain": [
       "Correct"
      ]
     },
     "metadata": {},
     "output_type": "display_data"
    }
   ],
   "source": [
    "# Your code goes here. Define a function called 'sign'\n",
    "def sign(num):\n",
    "    if num == 0 :\n",
    "        return 0 \n",
    "    elif num > 0 :\n",
    "        return 1\n",
    "    else :\n",
    "        return -1\n",
    "\n",
    "\n",
    "\n",
    "# Check your answer\n",
    "print(sign(-5))\n",
    "q1.check()"
   ]
  },
  {
   "cell_type": "code",
   "execution_count": 3,
   "id": "110b6fad",
   "metadata": {
    "execution": {
     "iopub.execute_input": "2023-07-23T05:25:36.534470Z",
     "iopub.status.busy": "2023-07-23T05:25:36.534039Z",
     "iopub.status.idle": "2023-07-23T05:25:36.539037Z",
     "shell.execute_reply": "2023-07-23T05:25:36.537936Z"
    },
    "papermill": {
     "duration": 0.021018,
     "end_time": "2023-07-23T05:25:36.541324",
     "exception": false,
     "start_time": "2023-07-23T05:25:36.520306",
     "status": "completed"
    },
    "tags": []
   },
   "outputs": [],
   "source": [
    "#q1.solution()"
   ]
  },
  {
   "cell_type": "markdown",
   "id": "5b80f87d",
   "metadata": {
    "papermill": {
     "duration": 0.011806,
     "end_time": "2023-07-23T05:25:36.565418",
     "exception": false,
     "start_time": "2023-07-23T05:25:36.553612",
     "status": "completed"
    },
    "tags": []
   },
   "source": [
    "# 2.\n",
    "\n",
    "We've decided to add \"logging\" to our `to_smash` function from the previous exercise."
   ]
  },
  {
   "cell_type": "code",
   "execution_count": 4,
   "id": "38684437",
   "metadata": {
    "execution": {
     "iopub.execute_input": "2023-07-23T05:25:36.591431Z",
     "iopub.status.busy": "2023-07-23T05:25:36.591007Z",
     "iopub.status.idle": "2023-07-23T05:25:36.600427Z",
     "shell.execute_reply": "2023-07-23T05:25:36.599288Z"
    },
    "papermill": {
     "duration": 0.025154,
     "end_time": "2023-07-23T05:25:36.602775",
     "exception": false,
     "start_time": "2023-07-23T05:25:36.577621",
     "status": "completed"
    },
    "tags": []
   },
   "outputs": [
    {
     "name": "stdout",
     "output_type": "stream",
     "text": [
      "Splitting 91 candies\n"
     ]
    },
    {
     "data": {
      "text/plain": [
       "1"
      ]
     },
     "execution_count": 4,
     "metadata": {},
     "output_type": "execute_result"
    }
   ],
   "source": [
    "def to_smash(total_candies):\n",
    "    \"\"\"Return the number of leftover candies that must be smashed after distributing\n",
    "    the given number of candies evenly between 3 friends.\n",
    "    \n",
    "    >>> to_smash(91)\n",
    "    1\n",
    "    \"\"\"\n",
    "    print(\"Splitting\", total_candies, \"candies\")\n",
    "    return total_candies % 3\n",
    "\n",
    "to_smash(91)"
   ]
  },
  {
   "cell_type": "markdown",
   "id": "0d7ac08f",
   "metadata": {
    "papermill": {
     "duration": 0.012301,
     "end_time": "2023-07-23T05:25:36.628034",
     "exception": false,
     "start_time": "2023-07-23T05:25:36.615733",
     "status": "completed"
    },
    "tags": []
   },
   "source": [
    "What happens if we call it with `total_candies = 1`?"
   ]
  },
  {
   "cell_type": "code",
   "execution_count": 5,
   "id": "69ad6928",
   "metadata": {
    "execution": {
     "iopub.execute_input": "2023-07-23T05:25:36.655002Z",
     "iopub.status.busy": "2023-07-23T05:25:36.654536Z",
     "iopub.status.idle": "2023-07-23T05:25:36.662835Z",
     "shell.execute_reply": "2023-07-23T05:25:36.661707Z"
    },
    "papermill": {
     "duration": 0.02467,
     "end_time": "2023-07-23T05:25:36.665307",
     "exception": false,
     "start_time": "2023-07-23T05:25:36.640637",
     "status": "completed"
    },
    "tags": []
   },
   "outputs": [
    {
     "name": "stdout",
     "output_type": "stream",
     "text": [
      "Splitting 1 candies\n"
     ]
    },
    {
     "data": {
      "text/plain": [
       "1"
      ]
     },
     "execution_count": 5,
     "metadata": {},
     "output_type": "execute_result"
    }
   ],
   "source": [
    "to_smash(1)"
   ]
  },
  {
   "cell_type": "markdown",
   "id": "5298b982",
   "metadata": {
    "papermill": {
     "duration": 0.01283,
     "end_time": "2023-07-23T05:25:36.691457",
     "exception": false,
     "start_time": "2023-07-23T05:25:36.678627",
     "status": "completed"
    },
    "tags": []
   },
   "source": [
    "That isn't great grammar!\n",
    "\n",
    "Modify the definition in the cell below to correct the grammar of our print statement. (If there's only one candy, we should use the singular \"candy\" instead of the plural \"candies\")"
   ]
  },
  {
   "cell_type": "code",
   "execution_count": 6,
   "id": "bcfd5ab6",
   "metadata": {
    "execution": {
     "iopub.execute_input": "2023-07-23T05:25:36.719449Z",
     "iopub.status.busy": "2023-07-23T05:25:36.719058Z",
     "iopub.status.idle": "2023-07-23T05:25:36.729056Z",
     "shell.execute_reply": "2023-07-23T05:25:36.727382Z"
    },
    "papermill": {
     "duration": 0.027141,
     "end_time": "2023-07-23T05:25:36.731718",
     "exception": false,
     "start_time": "2023-07-23T05:25:36.704577",
     "status": "completed"
    },
    "tags": []
   },
   "outputs": [
    {
     "name": "stdout",
     "output_type": "stream",
     "text": [
      "Splitting 91 candies\n",
      "Splitting 1 candy\n"
     ]
    },
    {
     "data": {
      "text/plain": [
       "1"
      ]
     },
     "execution_count": 6,
     "metadata": {},
     "output_type": "execute_result"
    }
   ],
   "source": [
    "def to_smash(total_candies):\n",
    "    \"\"\"Return the number of leftover candies that must be smashed after distributing\n",
    "    the given number of candies evenly between 3 friends.\n",
    "    \n",
    "    >>> to_smash(91)\n",
    "    1\n",
    "    \"\"\"\n",
    "    print(\"Splitting\", total_candies, \"candies\") if (total_candies > 1) else print(\"Splitting\", total_candies, \"candy\")\n",
    "    return total_candies % 3\n",
    "\n",
    "to_smash(91)\n",
    "to_smash(1)"
   ]
  },
  {
   "cell_type": "markdown",
   "id": "254bc9ef",
   "metadata": {
    "papermill": {
     "duration": 0.012845,
     "end_time": "2023-07-23T05:25:36.757753",
     "exception": false,
     "start_time": "2023-07-23T05:25:36.744908",
     "status": "completed"
    },
    "tags": []
   },
   "source": [
    "To get credit for completing this problem, and to see the official answer, run the code cell below."
   ]
  },
  {
   "cell_type": "code",
   "execution_count": 7,
   "id": "eba053a8",
   "metadata": {
    "execution": {
     "iopub.execute_input": "2023-07-23T05:25:36.786083Z",
     "iopub.status.busy": "2023-07-23T05:25:36.785669Z",
     "iopub.status.idle": "2023-07-23T05:25:36.797796Z",
     "shell.execute_reply": "2023-07-23T05:25:36.795817Z"
    },
    "papermill": {
     "duration": 0.029561,
     "end_time": "2023-07-23T05:25:36.800482",
     "exception": false,
     "start_time": "2023-07-23T05:25:36.770921",
     "status": "completed"
    },
    "tags": []
   },
   "outputs": [
    {
     "data": {
      "application/javascript": [
       "parent.postMessage({\"jupyterEvent\": \"custom.exercise_interaction\", \"data\": {\"interactionType\": 3, \"questionType\": 4, \"questionId\": \"2_PluralizationProblem\", \"learnToolsVersion\": \"0.3.4\", \"valueTowardsCompletion\": 0.0, \"failureMessage\": \"\", \"exceptionClass\": \"\", \"trace\": \"\", \"outcomeType\": 4}}, \"*\")"
      ],
      "text/plain": [
       "<IPython.core.display.Javascript object>"
      ]
     },
     "metadata": {},
     "output_type": "display_data"
    },
    {
     "data": {
      "text/markdown": [
       "<span style=\"color:#33cc99\">Solution:</span> A straightforward (and totally fine) solution is to replace the original `print` call with:\n",
       "\n",
       "```python\n",
       "if total_candies == 1:\n",
       "    print(\"Splitting 1 candy\")\n",
       "else:\n",
       "    print(\"Splitting\", total_candies, \"candies\")\n",
       "```\n",
       "\n",
       "Here's a slightly more succinct solution using a conditional expression:\n",
       "\n",
       "```python\n",
       "print(\"Splitting\", total_candies, \"candy\" if total_candies == 1 else \"candies\")\n",
       "```"
      ],
      "text/plain": [
       "Solution: A straightforward (and totally fine) solution is to replace the original `print` call with:\n",
       "\n",
       "```python\n",
       "if total_candies == 1:\n",
       "    print(\"Splitting 1 candy\")\n",
       "else:\n",
       "    print(\"Splitting\", total_candies, \"candies\")\n",
       "```\n",
       "\n",
       "Here's a slightly more succinct solution using a conditional expression:\n",
       "\n",
       "```python\n",
       "print(\"Splitting\", total_candies, \"candy\" if total_candies == 1 else \"candies\")\n",
       "```"
      ]
     },
     "metadata": {},
     "output_type": "display_data"
    }
   ],
   "source": [
    "# Check your answer (Run this code cell to receive credit!)\n",
    "q2.solution()"
   ]
  },
  {
   "cell_type": "markdown",
   "id": "918efdd2",
   "metadata": {
    "papermill": {
     "duration": 0.014038,
     "end_time": "2023-07-23T05:25:36.828150",
     "exception": false,
     "start_time": "2023-07-23T05:25:36.814112",
     "status": "completed"
    },
    "tags": []
   },
   "source": [
    "# 3. <span title=\"A bit spicy\" style=\"color: darkgreen \">🌶️</span>\n",
    "\n",
    "In the tutorial, we talked about deciding whether we're prepared for the weather. I said that I'm safe from today's weather if...\n",
    "- I have an umbrella...\n",
    "- or if the rain isn't too heavy and I have a hood...\n",
    "- otherwise, I'm still fine unless it's raining *and* it's a workday\n",
    "\n",
    "The function below uses our first attempt at turning this logic into a Python expression. I claimed that there was a bug in that code. Can you find it?\n",
    "\n",
    "To prove that `prepared_for_weather` is buggy, come up with a set of inputs where either:\n",
    "- the function returns `False` (but should have returned `True`), or\n",
    "- the function returned `True` (but should have returned `False`).\n",
    "\n",
    "To get credit for completing this question, your code should return a <font color='#33cc33'>Correct</font> result."
   ]
  },
  {
   "cell_type": "code",
   "execution_count": 8,
   "id": "38262b97",
   "metadata": {
    "execution": {
     "iopub.execute_input": "2023-07-23T05:25:36.857997Z",
     "iopub.status.busy": "2023-07-23T05:25:36.857567Z",
     "iopub.status.idle": "2023-07-23T05:25:36.870928Z",
     "shell.execute_reply": "2023-07-23T05:25:36.869730Z"
    },
    "papermill": {
     "duration": 0.031624,
     "end_time": "2023-07-23T05:25:36.873379",
     "exception": false,
     "start_time": "2023-07-23T05:25:36.841755",
     "status": "completed"
    },
    "tags": []
   },
   "outputs": [
    {
     "name": "stdout",
     "output_type": "stream",
     "text": [
      "False\n",
      "False\n"
     ]
    },
    {
     "data": {
      "application/javascript": [
       "parent.postMessage({\"jupyterEvent\": \"custom.exercise_interaction\", \"data\": {\"outcomeType\": 1, \"valueTowardsCompletion\": 0.2, \"interactionType\": 1, \"questionType\": 1, \"questionId\": \"3_WeatherDebug\", \"learnToolsVersion\": \"0.3.4\", \"failureMessage\": \"\", \"exceptionClass\": \"\", \"trace\": \"\"}}, \"*\")"
      ],
      "text/plain": [
       "<IPython.core.display.Javascript object>"
      ]
     },
     "metadata": {},
     "output_type": "display_data"
    },
    {
     "data": {
      "text/markdown": [
       "<span style=\"color:#33cc33\">Correct:</span> \n",
       "\n",
       "One example of a failing test case is:\n",
       "\n",
       "```python\n",
       "have_umbrella = False\n",
       "rain_level = 0.0\n",
       "have_hood = False\n",
       "is_workday = False\n",
       "```\n",
       "\n",
       "Clearly we're prepared for the weather in this case. It's not raining. Not only that, it's not a workday, so we don't even need to leave the house! But our function will return False on these inputs.\n",
       "\n",
       "The key problem is that Python implictly parenthesizes the last part as:\n",
       "\n",
       "```python\n",
       "(not (rain_level > 0)) and is_workday\n",
       "```\n",
       "\n",
       "Whereas what we were trying to express would look more like:\n",
       "\n",
       "```python\n",
       "not (rain_level > 0 and is_workday)\n",
       "```\n"
      ],
      "text/plain": [
       "Correct: \n",
       "\n",
       "One example of a failing test case is:\n",
       "\n",
       "```python\n",
       "have_umbrella = False\n",
       "rain_level = 0.0\n",
       "have_hood = False\n",
       "is_workday = False\n",
       "```\n",
       "\n",
       "Clearly we're prepared for the weather in this case. It's not raining. Not only that, it's not a workday, so we don't even need to leave the house! But our function will return False on these inputs.\n",
       "\n",
       "The key problem is that Python implictly parenthesizes the last part as:\n",
       "\n",
       "```python\n",
       "(not (rain_level > 0)) and is_workday\n",
       "```\n",
       "\n",
       "Whereas what we were trying to express would look more like:\n",
       "\n",
       "```python\n",
       "not (rain_level > 0 and is_workday)\n",
       "```"
      ]
     },
     "metadata": {},
     "output_type": "display_data"
    }
   ],
   "source": [
    "def prepared_for_weather(have_umbrella, rain_level, have_hood, is_workday):\n",
    "    # Don't change this code. Our goal is just to find the bug, not fix it!\n",
    "    return have_umbrella or rain_level < 5 and have_hood or not rain_level > 0 and is_workday\n",
    "\n",
    "# Change the values of these inputs so they represent a case where prepared_for_weather\n",
    "# returns the wrong answer.\n",
    "\n",
    "# Change the values of these inputs so they represent a case where prepared_for_weather\n",
    "# returns the wrong answer.\n",
    "have_umbrella = False\n",
    "rain_level = 0.0\n",
    "have_hood = False\n",
    "is_workday = False\n",
    "\n",
    "# Check what the function returns given the current values of the variables above\n",
    "actual = prepared_for_weather(have_umbrella, rain_level, have_hood, is_workday)\n",
    "print(actual)\n",
    "\n",
    "# Check what the function returns given the current values of the variables above\n",
    "actual = prepared_for_weather(have_umbrella, rain_level, have_hood, is_workday)\n",
    "print(actual)\n",
    "\n",
    "# Check your answer\n",
    "q3.check()"
   ]
  },
  {
   "cell_type": "code",
   "execution_count": 9,
   "id": "a8ad841d",
   "metadata": {
    "execution": {
     "iopub.execute_input": "2023-07-23T05:25:36.903877Z",
     "iopub.status.busy": "2023-07-23T05:25:36.903443Z",
     "iopub.status.idle": "2023-07-23T05:25:36.915805Z",
     "shell.execute_reply": "2023-07-23T05:25:36.914792Z"
    },
    "papermill": {
     "duration": 0.030024,
     "end_time": "2023-07-23T05:25:36.918005",
     "exception": false,
     "start_time": "2023-07-23T05:25:36.887981",
     "status": "completed"
    },
    "tags": []
   },
   "outputs": [
    {
     "data": {
      "application/javascript": [
       "parent.postMessage({\"jupyterEvent\": \"custom.exercise_interaction\", \"data\": {\"interactionType\": 2, \"questionType\": 1, \"questionId\": \"3_WeatherDebug\", \"learnToolsVersion\": \"0.3.4\", \"valueTowardsCompletion\": 0.0, \"failureMessage\": \"\", \"exceptionClass\": \"\", \"trace\": \"\", \"outcomeType\": 4}}, \"*\")"
      ],
      "text/plain": [
       "<IPython.core.display.Javascript object>"
      ]
     },
     "metadata": {},
     "output_type": "display_data"
    },
    {
     "data": {
      "text/markdown": [
       "<span style=\"color:#3366cc\">Hint:</span> Take a look at how we fixed our original expression in the main lesson. We added parentheses around certain subexpressions. The bug in this code is caused by Python evaluating certain operations in the \"wrong\" order."
      ],
      "text/plain": [
       "Hint: Take a look at how we fixed our original expression in the main lesson. We added parentheses around certain subexpressions. The bug in this code is caused by Python evaluating certain operations in the \"wrong\" order."
      ]
     },
     "metadata": {},
     "output_type": "display_data"
    },
    {
     "data": {
      "application/javascript": [
       "parent.postMessage({\"jupyterEvent\": \"custom.exercise_interaction\", \"data\": {\"interactionType\": 3, \"questionType\": 1, \"questionId\": \"3_WeatherDebug\", \"learnToolsVersion\": \"0.3.4\", \"valueTowardsCompletion\": 0.0, \"failureMessage\": \"\", \"exceptionClass\": \"\", \"trace\": \"\", \"outcomeType\": 4}}, \"*\")"
      ],
      "text/plain": [
       "<IPython.core.display.Javascript object>"
      ]
     },
     "metadata": {},
     "output_type": "display_data"
    },
    {
     "data": {
      "text/markdown": [
       "<span style=\"color:#33cc99\">Solution:</span> One example of a failing test case is:\n",
       "\n",
       "```python\n",
       "have_umbrella = False\n",
       "rain_level = 0.0\n",
       "have_hood = False\n",
       "is_workday = False\n",
       "```\n",
       "\n",
       "Clearly we're prepared for the weather in this case. It's not raining. Not only that, it's not a workday, so we don't even need to leave the house! But our function will return False on these inputs.\n",
       "\n",
       "The key problem is that Python implictly parenthesizes the last part as:\n",
       "\n",
       "```python\n",
       "(not (rain_level > 0)) and is_workday\n",
       "```\n",
       "\n",
       "Whereas what we were trying to express would look more like:\n",
       "\n",
       "```python\n",
       "not (rain_level > 0 and is_workday)\n",
       "```\n"
      ],
      "text/plain": [
       "Solution: One example of a failing test case is:\n",
       "\n",
       "```python\n",
       "have_umbrella = False\n",
       "rain_level = 0.0\n",
       "have_hood = False\n",
       "is_workday = False\n",
       "```\n",
       "\n",
       "Clearly we're prepared for the weather in this case. It's not raining. Not only that, it's not a workday, so we don't even need to leave the house! But our function will return False on these inputs.\n",
       "\n",
       "The key problem is that Python implictly parenthesizes the last part as:\n",
       "\n",
       "```python\n",
       "(not (rain_level > 0)) and is_workday\n",
       "```\n",
       "\n",
       "Whereas what we were trying to express would look more like:\n",
       "\n",
       "```python\n",
       "not (rain_level > 0 and is_workday)\n",
       "```"
      ]
     },
     "metadata": {},
     "output_type": "display_data"
    }
   ],
   "source": [
    "q3.hint()\n",
    "q3.solution()"
   ]
  },
  {
   "cell_type": "markdown",
   "id": "f89709b8",
   "metadata": {
    "papermill": {
     "duration": 0.014387,
     "end_time": "2023-07-23T05:25:36.947425",
     "exception": false,
     "start_time": "2023-07-23T05:25:36.933038",
     "status": "completed"
    },
    "tags": []
   },
   "source": [
    "# 4.\n",
    "\n",
    "The function `is_negative` below is implemented correctly - it returns True if the given number is negative and False otherwise.\n",
    "\n",
    "However, it's more verbose than it needs to be. We can actually reduce the number of lines of code in this function by *75%* while keeping the same behaviour. \n",
    "\n",
    "See if you can come up with an equivalent body that uses just **one line** of code, and put it in the function `concise_is_negative`. (HINT: you don't even need Python's ternary syntax)"
   ]
  },
  {
   "cell_type": "code",
   "execution_count": 10,
   "id": "995b1ddd",
   "metadata": {
    "execution": {
     "iopub.execute_input": "2023-07-23T05:25:36.978797Z",
     "iopub.status.busy": "2023-07-23T05:25:36.978393Z",
     "iopub.status.idle": "2023-07-23T05:25:36.989106Z",
     "shell.execute_reply": "2023-07-23T05:25:36.988004Z"
    },
    "papermill": {
     "duration": 0.029488,
     "end_time": "2023-07-23T05:25:36.991648",
     "exception": false,
     "start_time": "2023-07-23T05:25:36.962160",
     "status": "completed"
    },
    "tags": []
   },
   "outputs": [
    {
     "data": {
      "application/javascript": [
       "parent.postMessage({\"jupyterEvent\": \"custom.exercise_interaction\", \"data\": {\"outcomeType\": 1, \"valueTowardsCompletion\": 0.2, \"interactionType\": 1, \"questionType\": 2, \"questionId\": \"4_ConciseIsNegative\", \"learnToolsVersion\": \"0.3.4\", \"failureMessage\": \"\", \"exceptionClass\": \"\", \"trace\": \"\"}}, \"*\")"
      ],
      "text/plain": [
       "<IPython.core.display.Javascript object>"
      ]
     },
     "metadata": {},
     "output_type": "display_data"
    },
    {
     "data": {
      "text/markdown": [
       "<span style=\"color:#33cc33\">Correct</span>"
      ],
      "text/plain": [
       "Correct"
      ]
     },
     "metadata": {},
     "output_type": "display_data"
    }
   ],
   "source": [
    "def is_negative(number):\n",
    "    if number < 0:\n",
    "        return True\n",
    "    else:\n",
    "        return False\n",
    "\n",
    "def concise_is_negative(number):\n",
    "     return number < 0 # Your code goes here (try to keep it to one line!)\n",
    "\n",
    "# Check your answer\n",
    "q4.check()"
   ]
  },
  {
   "cell_type": "code",
   "execution_count": 11,
   "id": "aaf24855",
   "metadata": {
    "execution": {
     "iopub.execute_input": "2023-07-23T05:25:37.024171Z",
     "iopub.status.busy": "2023-07-23T05:25:37.023730Z",
     "iopub.status.idle": "2023-07-23T05:25:37.032350Z",
     "shell.execute_reply": "2023-07-23T05:25:37.031381Z"
    },
    "papermill": {
     "duration": 0.027306,
     "end_time": "2023-07-23T05:25:37.034481",
     "exception": false,
     "start_time": "2023-07-23T05:25:37.007175",
     "status": "completed"
    },
    "tags": []
   },
   "outputs": [
    {
     "data": {
      "application/javascript": [
       "parent.postMessage({\"jupyterEvent\": \"custom.exercise_interaction\", \"data\": {\"interactionType\": 2, \"questionType\": 2, \"questionId\": \"4_ConciseIsNegative\", \"learnToolsVersion\": \"0.3.4\", \"valueTowardsCompletion\": 0.0, \"failureMessage\": \"\", \"exceptionClass\": \"\", \"trace\": \"\", \"outcomeType\": 4}}, \"*\")"
      ],
      "text/plain": [
       "<IPython.core.display.Javascript object>"
      ]
     },
     "metadata": {},
     "output_type": "display_data"
    },
    {
     "data": {
      "text/markdown": [
       "<span style=\"color:#3366cc\">Hint:</span> If the value of the expression `number < 0` is `True`, then we return `True`. If it's `False`, then we return `False`..."
      ],
      "text/plain": [
       "Hint: If the value of the expression `number < 0` is `True`, then we return `True`. If it's `False`, then we return `False`..."
      ]
     },
     "metadata": {},
     "output_type": "display_data"
    }
   ],
   "source": [
    "q4.hint()\n",
    "#q4.solution()"
   ]
  },
  {
   "cell_type": "markdown",
   "id": "df507014",
   "metadata": {
    "papermill": {
     "duration": 0.015578,
     "end_time": "2023-07-23T05:25:37.065410",
     "exception": false,
     "start_time": "2023-07-23T05:25:37.049832",
     "status": "completed"
    },
    "tags": []
   },
   "source": [
    "# 5a.\n",
    "\n",
    "The boolean variables `ketchup`, `mustard` and `onion` represent whether a customer wants a particular topping on their hot dog. We want to implement a number of boolean functions that correspond to some yes-or-no questions about the customer's order. For example:"
   ]
  },
  {
   "cell_type": "code",
   "execution_count": 12,
   "id": "67c853f9",
   "metadata": {
    "execution": {
     "iopub.execute_input": "2023-07-23T05:25:37.098437Z",
     "iopub.status.busy": "2023-07-23T05:25:37.098026Z",
     "iopub.status.idle": "2023-07-23T05:25:37.103323Z",
     "shell.execute_reply": "2023-07-23T05:25:37.102194Z"
    },
    "papermill": {
     "duration": 0.02425,
     "end_time": "2023-07-23T05:25:37.105605",
     "exception": false,
     "start_time": "2023-07-23T05:25:37.081355",
     "status": "completed"
    },
    "tags": []
   },
   "outputs": [],
   "source": [
    "def onionless(ketchup, mustard, onion):\n",
    "    \"\"\"Return whether the customer doesn't want onions.\n",
    "    \"\"\"\n",
    "    return not onion"
   ]
  },
  {
   "cell_type": "code",
   "execution_count": 13,
   "id": "5887b804",
   "metadata": {
    "execution": {
     "iopub.execute_input": "2023-07-23T05:25:37.138400Z",
     "iopub.status.busy": "2023-07-23T05:25:37.137769Z",
     "iopub.status.idle": "2023-07-23T05:25:37.147250Z",
     "shell.execute_reply": "2023-07-23T05:25:37.146149Z"
    },
    "papermill": {
     "duration": 0.028653,
     "end_time": "2023-07-23T05:25:37.149665",
     "exception": false,
     "start_time": "2023-07-23T05:25:37.121012",
     "status": "completed"
    },
    "tags": []
   },
   "outputs": [
    {
     "data": {
      "application/javascript": [
       "parent.postMessage({\"jupyterEvent\": \"custom.exercise_interaction\", \"data\": {\"outcomeType\": 1, \"valueTowardsCompletion\": 0.2, \"interactionType\": 1, \"questionType\": 2, \"questionId\": \"5.1_AllToppings\", \"learnToolsVersion\": \"0.3.4\", \"failureMessage\": \"\", \"exceptionClass\": \"\", \"trace\": \"\"}}, \"*\")"
      ],
      "text/plain": [
       "<IPython.core.display.Javascript object>"
      ]
     },
     "metadata": {},
     "output_type": "display_data"
    },
    {
     "data": {
      "text/markdown": [
       "<span style=\"color:#33cc33\">Correct</span>"
      ],
      "text/plain": [
       "Correct"
      ]
     },
     "metadata": {},
     "output_type": "display_data"
    }
   ],
   "source": [
    "def wants_all_toppings(ketchup, mustard, onion):\n",
    "    \"\"\"Return whether the customer wants \"the works\" (all 3 toppings)\n",
    "    \"\"\"\n",
    "    return ketchup and mustard and onion\n",
    "\n",
    "# Check your answer\n",
    "q5.a.check()"
   ]
  },
  {
   "cell_type": "code",
   "execution_count": 14,
   "id": "91f57651",
   "metadata": {
    "execution": {
     "iopub.execute_input": "2023-07-23T05:25:37.182912Z",
     "iopub.status.busy": "2023-07-23T05:25:37.182538Z",
     "iopub.status.idle": "2023-07-23T05:25:37.186649Z",
     "shell.execute_reply": "2023-07-23T05:25:37.185494Z"
    },
    "papermill": {
     "duration": 0.023769,
     "end_time": "2023-07-23T05:25:37.189020",
     "exception": false,
     "start_time": "2023-07-23T05:25:37.165251",
     "status": "completed"
    },
    "tags": []
   },
   "outputs": [],
   "source": [
    "#q5.a.hint()\n",
    "#q5.a.solution()"
   ]
  },
  {
   "cell_type": "markdown",
   "id": "3fc54ae4",
   "metadata": {
    "papermill": {
     "duration": 0.015388,
     "end_time": "2023-07-23T05:25:37.220178",
     "exception": false,
     "start_time": "2023-07-23T05:25:37.204790",
     "status": "completed"
    },
    "tags": []
   },
   "source": [
    "# 5b.\n",
    "\n",
    "For the next function, fill in the body to match the English description in the docstring. "
   ]
  },
  {
   "cell_type": "code",
   "execution_count": 15,
   "id": "d5bbae85",
   "metadata": {
    "execution": {
     "iopub.execute_input": "2023-07-23T05:25:37.253583Z",
     "iopub.status.busy": "2023-07-23T05:25:37.253198Z",
     "iopub.status.idle": "2023-07-23T05:25:37.263147Z",
     "shell.execute_reply": "2023-07-23T05:25:37.262021Z"
    },
    "papermill": {
     "duration": 0.029642,
     "end_time": "2023-07-23T05:25:37.265425",
     "exception": false,
     "start_time": "2023-07-23T05:25:37.235783",
     "status": "completed"
    },
    "tags": []
   },
   "outputs": [
    {
     "data": {
      "application/javascript": [
       "parent.postMessage({\"jupyterEvent\": \"custom.exercise_interaction\", \"data\": {\"outcomeType\": 1, \"valueTowardsCompletion\": 0.2, \"interactionType\": 1, \"questionType\": 2, \"questionId\": \"5.2_PlainDog\", \"learnToolsVersion\": \"0.3.4\", \"failureMessage\": \"\", \"exceptionClass\": \"\", \"trace\": \"\"}}, \"*\")"
      ],
      "text/plain": [
       "<IPython.core.display.Javascript object>"
      ]
     },
     "metadata": {},
     "output_type": "display_data"
    },
    {
     "data": {
      "text/markdown": [
       "<span style=\"color:#33cc33\">Correct:</span> \n",
       "\n",
       "One solution looks like:\n",
       "```python\n",
       "return not ketchup and not mustard and not onion\n",
       "```\n",
       "\n",
       "We can also [\"factor out\" the nots](https://en.wikipedia.org/wiki/De_Morgan%27s_laws) to get:\n",
       "\n",
       "```python\n",
       "return not (ketchup or mustard or onion)\n",
       "```"
      ],
      "text/plain": [
       "Correct: \n",
       "\n",
       "One solution looks like:\n",
       "```python\n",
       "return not ketchup and not mustard and not onion\n",
       "```\n",
       "\n",
       "We can also [\"factor out\" the nots](https://en.wikipedia.org/wiki/De_Morgan%27s_laws) to get:\n",
       "\n",
       "```python\n",
       "return not (ketchup or mustard or onion)\n",
       "```"
      ]
     },
     "metadata": {},
     "output_type": "display_data"
    }
   ],
   "source": [
    "def wants_plain_hotdog(ketchup, mustard, onion):\n",
    "    \"\"\"Return whether the customer wants a plain hot dog with no toppings.\n",
    "    \"\"\"\n",
    "    return not ketchup and not mustard and not onion\n",
    "\n",
    "# Check your answer\n",
    "q5.b.check()"
   ]
  },
  {
   "cell_type": "code",
   "execution_count": 16,
   "id": "359e00c9",
   "metadata": {
    "execution": {
     "iopub.execute_input": "2023-07-23T05:25:37.299403Z",
     "iopub.status.busy": "2023-07-23T05:25:37.299015Z",
     "iopub.status.idle": "2023-07-23T05:25:37.303973Z",
     "shell.execute_reply": "2023-07-23T05:25:37.302916Z"
    },
    "papermill": {
     "duration": 0.024746,
     "end_time": "2023-07-23T05:25:37.306324",
     "exception": false,
     "start_time": "2023-07-23T05:25:37.281578",
     "status": "completed"
    },
    "tags": []
   },
   "outputs": [],
   "source": [
    "#q5.b.hint()\n",
    "#q5.b.solution()"
   ]
  },
  {
   "cell_type": "markdown",
   "id": "85ff7599",
   "metadata": {
    "papermill": {
     "duration": 0.01615,
     "end_time": "2023-07-23T05:25:37.338925",
     "exception": false,
     "start_time": "2023-07-23T05:25:37.322775",
     "status": "completed"
    },
    "tags": []
   },
   "source": [
    "# 5c.\n",
    "\n",
    "You know what to do: for the next function, fill in the body to match the English description in the docstring."
   ]
  },
  {
   "cell_type": "code",
   "execution_count": 17,
   "id": "8278f50c",
   "metadata": {
    "execution": {
     "iopub.execute_input": "2023-07-23T05:25:37.373332Z",
     "iopub.status.busy": "2023-07-23T05:25:37.372925Z",
     "iopub.status.idle": "2023-07-23T05:25:37.383103Z",
     "shell.execute_reply": "2023-07-23T05:25:37.382112Z"
    },
    "papermill": {
     "duration": 0.030025,
     "end_time": "2023-07-23T05:25:37.385236",
     "exception": false,
     "start_time": "2023-07-23T05:25:37.355211",
     "status": "completed"
    },
    "tags": []
   },
   "outputs": [
    {
     "data": {
      "application/javascript": [
       "parent.postMessage({\"jupyterEvent\": \"custom.exercise_interaction\", \"data\": {\"outcomeType\": 1, \"valueTowardsCompletion\": 0.2, \"interactionType\": 1, \"questionType\": 2, \"questionId\": \"5.3_OneSauce\", \"learnToolsVersion\": \"0.3.4\", \"failureMessage\": \"\", \"exceptionClass\": \"\", \"trace\": \"\"}}, \"*\")"
      ],
      "text/plain": [
       "<IPython.core.display.Javascript object>"
      ]
     },
     "metadata": {},
     "output_type": "display_data"
    },
    {
     "data": {
      "text/markdown": [
       "<span style=\"color:#33cc33\">Correct</span>"
      ],
      "text/plain": [
       "Correct"
      ]
     },
     "metadata": {},
     "output_type": "display_data"
    }
   ],
   "source": [
    "def exactly_one_sauce(ketchup, mustard, onion):\n",
    "    \"\"\"Return whether the customer wants either ketchup or mustard, but not both.\n",
    "    (You may be familiar with this operation under the name \"exclusive or\")\n",
    "    \"\"\"\n",
    "    \n",
    "    return (not ketchup and mustard) or (not mustard and ketchup)\n",
    "\n",
    "# Check your answer\n",
    "q5.c.check()"
   ]
  },
  {
   "cell_type": "code",
   "execution_count": 18,
   "id": "8b6b2e64",
   "metadata": {
    "execution": {
     "iopub.execute_input": "2023-07-23T05:25:37.420069Z",
     "iopub.status.busy": "2023-07-23T05:25:37.419672Z",
     "iopub.status.idle": "2023-07-23T05:25:37.428459Z",
     "shell.execute_reply": "2023-07-23T05:25:37.427309Z"
    },
    "papermill": {
     "duration": 0.028893,
     "end_time": "2023-07-23T05:25:37.430674",
     "exception": false,
     "start_time": "2023-07-23T05:25:37.401781",
     "status": "completed"
    },
    "tags": []
   },
   "outputs": [
    {
     "data": {
      "application/javascript": [
       "parent.postMessage({\"jupyterEvent\": \"custom.exercise_interaction\", \"data\": {\"interactionType\": 2, \"questionType\": 2, \"questionId\": \"5.3_OneSauce\", \"learnToolsVersion\": \"0.3.4\", \"valueTowardsCompletion\": 0.0, \"failureMessage\": \"\", \"exceptionClass\": \"\", \"trace\": \"\", \"outcomeType\": 4}}, \"*\")"
      ],
      "text/plain": [
       "<IPython.core.display.Javascript object>"
      ]
     },
     "metadata": {},
     "output_type": "display_data"
    },
    {
     "data": {
      "text/markdown": [
       "<span style=\"color:#3366cc\">Hint:</span> There are exactly two ways to set ketchup and mustard to make this true. What are they?"
      ],
      "text/plain": [
       "Hint: There are exactly two ways to set ketchup and mustard to make this true. What are they?"
      ]
     },
     "metadata": {},
     "output_type": "display_data"
    }
   ],
   "source": [
    "q5.c.hint()\n",
    "#q5.c.solution()"
   ]
  },
  {
   "cell_type": "markdown",
   "id": "cfe7ce06",
   "metadata": {
    "papermill": {
     "duration": 0.016426,
     "end_time": "2023-07-23T05:25:37.463872",
     "exception": false,
     "start_time": "2023-07-23T05:25:37.447446",
     "status": "completed"
    },
    "tags": []
   },
   "source": [
    "# 6. <span title=\"A bit spicy\" style=\"color: darkgreen \">🌶️</span>\n",
    "\n",
    "We’ve seen that calling `bool()` on an integer returns `False` if it’s equal to 0 and `True` otherwise. What happens if we call `int()` on a bool? Try it out in the notebook cell below.\n",
    "\n",
    "Can you take advantage of this to write a succinct function that corresponds to the English sentence \"does the customer want exactly one topping?\"?"
   ]
  },
  {
   "cell_type": "code",
   "execution_count": 19,
   "id": "6a82809a",
   "metadata": {
    "execution": {
     "iopub.execute_input": "2023-07-23T05:25:37.499858Z",
     "iopub.status.busy": "2023-07-23T05:25:37.499150Z",
     "iopub.status.idle": "2023-07-23T05:25:37.509389Z",
     "shell.execute_reply": "2023-07-23T05:25:37.508557Z"
    },
    "papermill": {
     "duration": 0.030657,
     "end_time": "2023-07-23T05:25:37.511447",
     "exception": false,
     "start_time": "2023-07-23T05:25:37.480790",
     "status": "completed"
    },
    "tags": []
   },
   "outputs": [
    {
     "data": {
      "application/javascript": [
       "parent.postMessage({\"jupyterEvent\": \"custom.exercise_interaction\", \"data\": {\"outcomeType\": 1, \"valueTowardsCompletion\": 0.2, \"interactionType\": 1, \"questionType\": 2, \"questionId\": \"6_OneTopping\", \"learnToolsVersion\": \"0.3.4\", \"failureMessage\": \"\", \"exceptionClass\": \"\", \"trace\": \"\"}}, \"*\")"
      ],
      "text/plain": [
       "<IPython.core.display.Javascript object>"
      ]
     },
     "metadata": {},
     "output_type": "display_data"
    },
    {
     "data": {
      "text/markdown": [
       "<span style=\"color:#33cc33\">Correct:</span> \n",
       "\n",
       "This condition would be pretty complicated to express using just `and`, `or` and `not`, but using boolean-to-integer conversion gives us this short solution:\n",
       "```python\n",
       "return (int(ketchup) + int(mustard) + int(onion)) == 1\n",
       "```\n",
       "\n",
       "Fun fact: we don't technically need to call `int` on the arguments. Just by doing addition with booleans, Python implicitly does the integer conversion. So we could also write...\n",
       "\n",
       "```python\n",
       "return (ketchup + mustard + onion) == 1\n",
       "```"
      ],
      "text/plain": [
       "Correct: \n",
       "\n",
       "This condition would be pretty complicated to express using just `and`, `or` and `not`, but using boolean-to-integer conversion gives us this short solution:\n",
       "```python\n",
       "return (int(ketchup) + int(mustard) + int(onion)) == 1\n",
       "```\n",
       "\n",
       "Fun fact: we don't technically need to call `int` on the arguments. Just by doing addition with booleans, Python implicitly does the integer conversion. So we could also write...\n",
       "\n",
       "```python\n",
       "return (ketchup + mustard + onion) == 1\n",
       "```"
      ]
     },
     "metadata": {},
     "output_type": "display_data"
    }
   ],
   "source": [
    "def exactly_one_topping(ketchup, mustard, onion):\n",
    "    \"\"\"Return whether the customer wants exactly one of the three available toppings\n",
    "    on their hot dog.\n",
    "    \"\"\"\n",
    "    return int(ketchup) + int(mustard) + int(onion) == 1\n",
    "    \n",
    "\n",
    "# Check your answer\n",
    "q6.check()"
   ]
  },
  {
   "cell_type": "code",
   "execution_count": 20,
   "id": "d2c505e0",
   "metadata": {
    "execution": {
     "iopub.execute_input": "2023-07-23T05:25:37.549857Z",
     "iopub.status.busy": "2023-07-23T05:25:37.548659Z",
     "iopub.status.idle": "2023-07-23T05:25:37.558358Z",
     "shell.execute_reply": "2023-07-23T05:25:37.557157Z"
    },
    "papermill": {
     "duration": 0.031583,
     "end_time": "2023-07-23T05:25:37.560640",
     "exception": false,
     "start_time": "2023-07-23T05:25:37.529057",
     "status": "completed"
    },
    "tags": []
   },
   "outputs": [
    {
     "data": {
      "application/javascript": [
       "parent.postMessage({\"jupyterEvent\": \"custom.exercise_interaction\", \"data\": {\"interactionType\": 2, \"questionType\": 2, \"questionId\": \"6_OneTopping\", \"learnToolsVersion\": \"0.3.4\", \"valueTowardsCompletion\": 0.0, \"failureMessage\": \"\", \"exceptionClass\": \"\", \"trace\": \"\", \"outcomeType\": 4}}, \"*\")"
      ],
      "text/plain": [
       "<IPython.core.display.Javascript object>"
      ]
     },
     "metadata": {},
     "output_type": "display_data"
    },
    {
     "data": {
      "text/markdown": [
       "<span style=\"color:#3366cc\">Hint:</span> You may have already found that `int(True)` is 1, and `int(False)` is 0. Think about what kinds of basic arithmetic operations you might want to perform on `ketchup`, `mustard`, and `onion` after converting them to integers."
      ],
      "text/plain": [
       "Hint: You may have already found that `int(True)` is 1, and `int(False)` is 0. Think about what kinds of basic arithmetic operations you might want to perform on `ketchup`, `mustard`, and `onion` after converting them to integers."
      ]
     },
     "metadata": {},
     "output_type": "display_data"
    }
   ],
   "source": [
    "q6.hint()\n",
    "#q6.solution()"
   ]
  },
  {
   "cell_type": "markdown",
   "id": "a6ca7ea6",
   "metadata": {
    "papermill": {
     "duration": 0.017681,
     "end_time": "2023-07-23T05:25:37.595802",
     "exception": false,
     "start_time": "2023-07-23T05:25:37.578121",
     "status": "completed"
    },
    "tags": []
   },
   "source": [
    "# 7. <span title=\"A bit spicy\" style=\"color: darkgreen \">🌶️</span> (Optional)\n",
    "\n",
    "In this problem we'll be working with a simplified version of [blackjack](https://en.wikipedia.org/wiki/Blackjack) (aka twenty-one). In this version there is one player (who you'll control) and a dealer. Play proceeds as follows:\n",
    "\n",
    "- The player is dealt two face-up cards. The dealer is dealt one face-up card.\n",
    "- The player may ask to be dealt another card ('hit') as many times as they wish. If the sum of their cards exceeds 21, they lose the round immediately.\n",
    "- The dealer then deals additional cards to himself until either:\n",
    "    - the sum of the dealer's cards exceeds 21, in which case the player wins the round\n",
    "    - the sum of the dealer's cards is greater than or equal to 17. If the player's total is greater than the dealer's, the player wins. Otherwise, the dealer wins (even in case of a tie).\n",
    "    \n",
    "When calculating the sum of cards, Jack, Queen, and King count for 10. Aces can count as 1 or 11 (when referring to a player's \"total\" above, we mean the largest total that can be made without exceeding 21. So e.g. A+8 = 19, A+8+8 = 17)\n",
    "\n",
    "For this problem, you'll write a function representing the player's decision-making strategy in this game. We've provided a very unintelligent implementation below:"
   ]
  },
  {
   "cell_type": "code",
   "execution_count": 21,
   "id": "018d879e",
   "metadata": {
    "execution": {
     "iopub.execute_input": "2023-07-23T05:25:37.634301Z",
     "iopub.status.busy": "2023-07-23T05:25:37.633479Z",
     "iopub.status.idle": "2023-07-23T05:25:37.639611Z",
     "shell.execute_reply": "2023-07-23T05:25:37.638413Z"
    },
    "papermill": {
     "duration": 0.027672,
     "end_time": "2023-07-23T05:25:37.642206",
     "exception": false,
     "start_time": "2023-07-23T05:25:37.614534",
     "status": "completed"
    },
    "tags": []
   },
   "outputs": [],
   "source": [
    "def should_hit(dealer_total, player_total, player_low_aces, player_high_aces):\n",
    "    \"\"\"Return True if the player should hit (request another card) given the current game\n",
    "    state, or False if the player should stay.\n",
    "    When calculating a hand's total value, we count aces as \"high\" (with value 11) if doing so\n",
    "    doesn't bring the total above 21, otherwise we count them as low (with value 1). \n",
    "    For example, if the player's hand is {A, A, A, 7}, we will count it as 11 + 1 + 1 + 7,\n",
    "    and therefore set player_total=20, player_low_aces=2, player_high_aces=1.\n",
    "    \"\"\"\n",
    "    return False"
   ]
  },
  {
   "cell_type": "markdown",
   "id": "b3bbb1f7",
   "metadata": {
    "papermill": {
     "duration": 0.017465,
     "end_time": "2023-07-23T05:25:37.678013",
     "exception": false,
     "start_time": "2023-07-23T05:25:37.660548",
     "status": "completed"
    },
    "tags": []
   },
   "source": [
    "This very conservative agent *always* sticks with the hand of two cards that they're dealt.\n",
    "\n",
    "We'll be simulating games between your player agent and our own dealer agent by calling your function.\n",
    "\n",
    "Try running the function below to see an example of a simulated game:"
   ]
  },
  {
   "cell_type": "code",
   "execution_count": 22,
   "id": "e0b66a90",
   "metadata": {
    "execution": {
     "iopub.execute_input": "2023-07-23T05:25:37.715844Z",
     "iopub.status.busy": "2023-07-23T05:25:37.715038Z",
     "iopub.status.idle": "2023-07-23T05:25:37.720402Z",
     "shell.execute_reply": "2023-07-23T05:25:37.719335Z"
    },
    "papermill": {
     "duration": 0.027288,
     "end_time": "2023-07-23T05:25:37.723063",
     "exception": false,
     "start_time": "2023-07-23T05:25:37.695775",
     "status": "completed"
    },
    "tags": []
   },
   "outputs": [
    {
     "name": "stdout",
     "output_type": "stream",
     "text": [
      "Player starts with 9 and 3 (total = 12)\n",
      "Dealer starts with Q\n",
      "\n",
      "__Player's turn__\n",
      "Player stays\n",
      "\n",
      "__Dealer's turn__\n",
      "Dealer hits and receives J. (total = 20)\n",
      "Dealer stands.\n",
      "Dealer wins. 20 >= 12\n"
     ]
    }
   ],
   "source": [
    "q7.simulate_one_game()"
   ]
  },
  {
   "cell_type": "markdown",
   "id": "bc8cce7c",
   "metadata": {
    "papermill": {
     "duration": 0.017702,
     "end_time": "2023-07-23T05:25:37.758583",
     "exception": false,
     "start_time": "2023-07-23T05:25:37.740881",
     "status": "completed"
    },
    "tags": []
   },
   "source": [
    "The real test of your agent's mettle is their average win rate over many games. Try calling the function below to simulate 50000 games of blackjack (it may take a couple seconds):"
   ]
  },
  {
   "cell_type": "code",
   "execution_count": 23,
   "id": "b793cba4",
   "metadata": {
    "execution": {
     "iopub.execute_input": "2023-07-23T05:25:37.797588Z",
     "iopub.status.busy": "2023-07-23T05:25:37.797166Z",
     "iopub.status.idle": "2023-07-23T05:25:39.936912Z",
     "shell.execute_reply": "2023-07-23T05:25:39.936031Z"
    },
    "papermill": {
     "duration": 2.162913,
     "end_time": "2023-07-23T05:25:39.939435",
     "exception": false,
     "start_time": "2023-07-23T05:25:37.776522",
     "status": "completed"
    },
    "tags": []
   },
   "outputs": [
    {
     "name": "stdout",
     "output_type": "stream",
     "text": [
      "Player won 19186 out of 50000 games (win rate = 38.4%)\n"
     ]
    }
   ],
   "source": [
    "q7.simulate(n_games=50000)"
   ]
  },
  {
   "cell_type": "markdown",
   "id": "2466c4c3",
   "metadata": {
    "papermill": {
     "duration": 0.017346,
     "end_time": "2023-07-23T05:25:39.974534",
     "exception": false,
     "start_time": "2023-07-23T05:25:39.957188",
     "status": "completed"
    },
    "tags": []
   },
   "source": [
    "Our dumb agent that completely ignores the game state still manages to win shockingly often!\n",
    "\n",
    "Try adding some more smarts to the `should_hit` function and see how it affects the results."
   ]
  },
  {
   "cell_type": "code",
   "execution_count": 24,
   "id": "44cf6b8e",
   "metadata": {
    "execution": {
     "iopub.execute_input": "2023-07-23T05:25:40.011998Z",
     "iopub.status.busy": "2023-07-23T05:25:40.011580Z",
     "iopub.status.idle": "2023-07-23T05:25:42.177800Z",
     "shell.execute_reply": "2023-07-23T05:25:42.176541Z"
    },
    "papermill": {
     "duration": 2.188237,
     "end_time": "2023-07-23T05:25:42.180511",
     "exception": false,
     "start_time": "2023-07-23T05:25:39.992274",
     "status": "completed"
    },
    "tags": []
   },
   "outputs": [
    {
     "name": "stdout",
     "output_type": "stream",
     "text": [
      "Player won 18889 out of 50000 games (win rate = 37.8%)\n"
     ]
    }
   ],
   "source": [
    "def should_hit(dealer_total, player_total, player_low_aces, player_high_aces):\n",
    "    \"\"\"Return True if the player should hit (request another card) given the current game\n",
    "    state, or False if the player should stay.\n",
    "    When calculating a hand's total value, we count aces as \"high\" (with value 11) if doing so\n",
    "    doesn't bring the total above 21, otherwise we count them as low (with value 1). \n",
    "    For example, if the player's hand is {A, A, A, 7}, we will count it as 11 + 1 + 1 + 7,\n",
    "    and therefore set player_total=20, player_low_aces=2, player_high_aces=1.\n",
    "    \"\"\"\n",
    "    return False\n",
    "\n",
    "q7.simulate(n_games=50000)"
   ]
  },
  {
   "cell_type": "markdown",
   "id": "3fa6aeee",
   "metadata": {
    "papermill": {
     "duration": 0.017734,
     "end_time": "2023-07-23T05:25:42.216270",
     "exception": false,
     "start_time": "2023-07-23T05:25:42.198536",
     "status": "completed"
    },
    "tags": []
   },
   "source": [
    "# Keep Going\n",
    "\n",
    "Learn about **[lists and tuples](https://www.kaggle.com/colinmorris/lists)** to handle multiple items of data in a systematic way."
   ]
  },
  {
   "cell_type": "markdown",
   "id": "60fadf12",
   "metadata": {
    "papermill": {
     "duration": 0.017717,
     "end_time": "2023-07-23T05:25:42.252035",
     "exception": false,
     "start_time": "2023-07-23T05:25:42.234318",
     "status": "completed"
    },
    "tags": []
   },
   "source": [
    "---\n",
    "\n",
    "\n",
    "\n",
    "\n",
    "*Have questions or comments? Visit the [course discussion forum](https://www.kaggle.com/learn/python/discussion) to chat with other learners.*"
   ]
  }
 ],
 "metadata": {
  "kernelspec": {
   "display_name": "Python 3",
   "language": "python",
   "name": "python3"
  },
  "language_info": {
   "codemirror_mode": {
    "name": "ipython",
    "version": 3
   },
   "file_extension": ".py",
   "mimetype": "text/x-python",
   "name": "python",
   "nbconvert_exporter": "python",
   "pygments_lexer": "ipython3",
   "version": "3.10.12"
  },
  "papermill": {
   "default_parameters": {},
   "duration": 19.687666,
   "end_time": "2023-07-23T05:25:43.192919",
   "environment_variables": {},
   "exception": null,
   "input_path": "__notebook__.ipynb",
   "output_path": "__notebook__.ipynb",
   "parameters": {},
   "start_time": "2023-07-23T05:25:23.505253",
   "version": "2.4.0"
  }
 },
 "nbformat": 4,
 "nbformat_minor": 5
}
